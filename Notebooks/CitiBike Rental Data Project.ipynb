{
 "cells": [
  {
   "cell_type": "markdown",
   "metadata": {},
   "source": [
    "# Bike Rental Data Management Project"
   ]
  },
  {
   "cell_type": "markdown",
   "metadata": {},
   "source": [
    "## Importing libraries and data"
   ]
  },
  {
   "cell_type": "code",
   "execution_count": 1,
   "metadata": {},
   "outputs": [],
   "source": [
    "import os\n",
    "import datetime\n",
    "import string\n",
    "\n",
    "import pandas as pd\n",
    "import numpy as np\n",
    "\n",
    "import sqlalchemy"
   ]
  },
  {
   "cell_type": "markdown",
   "metadata": {},
   "source": [
    "Next, we will be loading the monthly datasets for Citi Bike and concatenate them in a single `pandas` dataframe. It is important to note that this information is from 2016. I will try to run a similar analysis for 2022 data eventually."
   ]
  },
  {
   "cell_type": "code",
   "execution_count": 2,
   "metadata": {},
   "outputs": [],
   "source": [
    "df_bike = pd.DataFrame()"
   ]
  },
  {
   "cell_type": "code",
   "execution_count": 3,
   "metadata": {},
   "outputs": [],
   "source": [
    "# use for-loop to create unified dataframe through df_temp\n",
    "for f in sorted(os.listdir('../datafiles/citibike_and_weather_data_2016')):\n",
    "    if f.startswith('JC'):\n",
    "        df_temp = pd.read_csv('../datafiles/citibike_and_weather_data_2016/' + f)\n",
    "        df_bike = pd.concat([df_bike, df_temp], axis=0)\n",
    "\n",
    "# reset index after concatenation\n",
    "df_bike.reset_index(drop=True, inplace=True)\n",
    "\n",
    "# add an 'id' column for counts and future primary key usage\n",
    "df_bike['id'] = df_bike.index"
   ]
  },
  {
   "cell_type": "markdown",
   "metadata": {},
   "source": [
    "Inspect both the beginning and end of our dataframe:"
   ]
  },
  {
   "cell_type": "code",
   "execution_count": 4,
   "metadata": {},
   "outputs": [
    {
     "data": {
      "text/html": [
       "<div>\n",
       "<style scoped>\n",
       "    .dataframe tbody tr th:only-of-type {\n",
       "        vertical-align: middle;\n",
       "    }\n",
       "\n",
       "    .dataframe tbody tr th {\n",
       "        vertical-align: top;\n",
       "    }\n",
       "\n",
       "    .dataframe thead th {\n",
       "        text-align: right;\n",
       "    }\n",
       "</style>\n",
       "<table border=\"1\" class=\"dataframe\">\n",
       "  <thead>\n",
       "    <tr style=\"text-align: right;\">\n",
       "      <th></th>\n",
       "      <th>Trip Duration</th>\n",
       "      <th>Start Time</th>\n",
       "      <th>Stop Time</th>\n",
       "      <th>Start Station ID</th>\n",
       "      <th>Start Station Name</th>\n",
       "      <th>Start Station Latitude</th>\n",
       "      <th>Start Station Longitude</th>\n",
       "      <th>End Station ID</th>\n",
       "      <th>End Station Name</th>\n",
       "      <th>End Station Latitude</th>\n",
       "      <th>End Station Longitude</th>\n",
       "      <th>Bike ID</th>\n",
       "      <th>User Type</th>\n",
       "      <th>Birth Year</th>\n",
       "      <th>Gender</th>\n",
       "      <th>id</th>\n",
       "    </tr>\n",
       "  </thead>\n",
       "  <tbody>\n",
       "    <tr>\n",
       "      <th>0</th>\n",
       "      <td>362</td>\n",
       "      <td>2016-01-01 00:02:52</td>\n",
       "      <td>2016-01-01 00:08:54</td>\n",
       "      <td>3186</td>\n",
       "      <td>Grove St PATH</td>\n",
       "      <td>40.719586</td>\n",
       "      <td>-74.043117</td>\n",
       "      <td>3209</td>\n",
       "      <td>Brunswick St</td>\n",
       "      <td>40.724176</td>\n",
       "      <td>-74.050656</td>\n",
       "      <td>24647</td>\n",
       "      <td>Subscriber</td>\n",
       "      <td>1964.0</td>\n",
       "      <td>2</td>\n",
       "      <td>0</td>\n",
       "    </tr>\n",
       "    <tr>\n",
       "      <th>1</th>\n",
       "      <td>200</td>\n",
       "      <td>2016-01-01 00:18:22</td>\n",
       "      <td>2016-01-01 00:21:42</td>\n",
       "      <td>3186</td>\n",
       "      <td>Grove St PATH</td>\n",
       "      <td>40.719586</td>\n",
       "      <td>-74.043117</td>\n",
       "      <td>3213</td>\n",
       "      <td>Van Vorst Park</td>\n",
       "      <td>40.718489</td>\n",
       "      <td>-74.047727</td>\n",
       "      <td>24605</td>\n",
       "      <td>Subscriber</td>\n",
       "      <td>1962.0</td>\n",
       "      <td>1</td>\n",
       "      <td>1</td>\n",
       "    </tr>\n",
       "    <tr>\n",
       "      <th>2</th>\n",
       "      <td>202</td>\n",
       "      <td>2016-01-01 00:18:25</td>\n",
       "      <td>2016-01-01 00:21:47</td>\n",
       "      <td>3186</td>\n",
       "      <td>Grove St PATH</td>\n",
       "      <td>40.719586</td>\n",
       "      <td>-74.043117</td>\n",
       "      <td>3213</td>\n",
       "      <td>Van Vorst Park</td>\n",
       "      <td>40.718489</td>\n",
       "      <td>-74.047727</td>\n",
       "      <td>24689</td>\n",
       "      <td>Subscriber</td>\n",
       "      <td>1962.0</td>\n",
       "      <td>2</td>\n",
       "      <td>2</td>\n",
       "    </tr>\n",
       "    <tr>\n",
       "      <th>3</th>\n",
       "      <td>248</td>\n",
       "      <td>2016-01-01 00:23:13</td>\n",
       "      <td>2016-01-01 00:27:21</td>\n",
       "      <td>3209</td>\n",
       "      <td>Brunswick St</td>\n",
       "      <td>40.724176</td>\n",
       "      <td>-74.050656</td>\n",
       "      <td>3203</td>\n",
       "      <td>Hamilton Park</td>\n",
       "      <td>40.727596</td>\n",
       "      <td>-74.044247</td>\n",
       "      <td>24693</td>\n",
       "      <td>Subscriber</td>\n",
       "      <td>1984.0</td>\n",
       "      <td>1</td>\n",
       "      <td>3</td>\n",
       "    </tr>\n",
       "    <tr>\n",
       "      <th>4</th>\n",
       "      <td>903</td>\n",
       "      <td>2016-01-01 01:03:20</td>\n",
       "      <td>2016-01-01 01:18:24</td>\n",
       "      <td>3195</td>\n",
       "      <td>Sip Ave</td>\n",
       "      <td>40.730743</td>\n",
       "      <td>-74.063784</td>\n",
       "      <td>3210</td>\n",
       "      <td>Pershing Field</td>\n",
       "      <td>40.742677</td>\n",
       "      <td>-74.051789</td>\n",
       "      <td>24573</td>\n",
       "      <td>Customer</td>\n",
       "      <td>NaN</td>\n",
       "      <td>0</td>\n",
       "      <td>4</td>\n",
       "    </tr>\n",
       "  </tbody>\n",
       "</table>\n",
       "</div>"
      ],
      "text/plain": [
       "   Trip Duration           Start Time            Stop Time  Start Station ID  \\\n",
       "0            362  2016-01-01 00:02:52  2016-01-01 00:08:54              3186   \n",
       "1            200  2016-01-01 00:18:22  2016-01-01 00:21:42              3186   \n",
       "2            202  2016-01-01 00:18:25  2016-01-01 00:21:47              3186   \n",
       "3            248  2016-01-01 00:23:13  2016-01-01 00:27:21              3209   \n",
       "4            903  2016-01-01 01:03:20  2016-01-01 01:18:24              3195   \n",
       "\n",
       "  Start Station Name  Start Station Latitude  Start Station Longitude  \\\n",
       "0      Grove St PATH               40.719586               -74.043117   \n",
       "1      Grove St PATH               40.719586               -74.043117   \n",
       "2      Grove St PATH               40.719586               -74.043117   \n",
       "3       Brunswick St               40.724176               -74.050656   \n",
       "4            Sip Ave               40.730743               -74.063784   \n",
       "\n",
       "   End Station ID End Station Name  End Station Latitude  \\\n",
       "0            3209     Brunswick St             40.724176   \n",
       "1            3213   Van Vorst Park             40.718489   \n",
       "2            3213   Van Vorst Park             40.718489   \n",
       "3            3203    Hamilton Park             40.727596   \n",
       "4            3210   Pershing Field             40.742677   \n",
       "\n",
       "   End Station Longitude  Bike ID   User Type  Birth Year  Gender  id  \n",
       "0             -74.050656    24647  Subscriber      1964.0       2   0  \n",
       "1             -74.047727    24605  Subscriber      1962.0       1   1  \n",
       "2             -74.047727    24689  Subscriber      1962.0       2   2  \n",
       "3             -74.044247    24693  Subscriber      1984.0       1   3  \n",
       "4             -74.051789    24573    Customer         NaN       0   4  "
      ]
     },
     "execution_count": 4,
     "metadata": {},
     "output_type": "execute_result"
    }
   ],
   "source": [
    "df_bike.head(5)"
   ]
  },
  {
   "cell_type": "code",
   "execution_count": 5,
   "metadata": {},
   "outputs": [
    {
     "data": {
      "text/html": [
       "<div>\n",
       "<style scoped>\n",
       "    .dataframe tbody tr th:only-of-type {\n",
       "        vertical-align: middle;\n",
       "    }\n",
       "\n",
       "    .dataframe tbody tr th {\n",
       "        vertical-align: top;\n",
       "    }\n",
       "\n",
       "    .dataframe thead th {\n",
       "        text-align: right;\n",
       "    }\n",
       "</style>\n",
       "<table border=\"1\" class=\"dataframe\">\n",
       "  <thead>\n",
       "    <tr style=\"text-align: right;\">\n",
       "      <th></th>\n",
       "      <th>Trip Duration</th>\n",
       "      <th>Start Time</th>\n",
       "      <th>Stop Time</th>\n",
       "      <th>Start Station ID</th>\n",
       "      <th>Start Station Name</th>\n",
       "      <th>Start Station Latitude</th>\n",
       "      <th>Start Station Longitude</th>\n",
       "      <th>End Station ID</th>\n",
       "      <th>End Station Name</th>\n",
       "      <th>End Station Latitude</th>\n",
       "      <th>End Station Longitude</th>\n",
       "      <th>Bike ID</th>\n",
       "      <th>User Type</th>\n",
       "      <th>Birth Year</th>\n",
       "      <th>Gender</th>\n",
       "      <th>id</th>\n",
       "    </tr>\n",
       "  </thead>\n",
       "  <tbody>\n",
       "    <tr>\n",
       "      <th>247579</th>\n",
       "      <td>557</td>\n",
       "      <td>2016-12-31 23:10:16</td>\n",
       "      <td>2016-12-31 23:19:33</td>\n",
       "      <td>3214</td>\n",
       "      <td>Essex Light Rail</td>\n",
       "      <td>40.712774</td>\n",
       "      <td>-74.036486</td>\n",
       "      <td>3203</td>\n",
       "      <td>Hamilton Park</td>\n",
       "      <td>40.727596</td>\n",
       "      <td>-74.044247</td>\n",
       "      <td>24465</td>\n",
       "      <td>Subscriber</td>\n",
       "      <td>1981.0</td>\n",
       "      <td>2</td>\n",
       "      <td>247579</td>\n",
       "    </tr>\n",
       "    <tr>\n",
       "      <th>247580</th>\n",
       "      <td>2749</td>\n",
       "      <td>2016-12-31 23:29:39</td>\n",
       "      <td>2017-01-01 00:15:29</td>\n",
       "      <td>3183</td>\n",
       "      <td>Exchange Place</td>\n",
       "      <td>40.716247</td>\n",
       "      <td>-74.033459</td>\n",
       "      <td>3183</td>\n",
       "      <td>Exchange Place</td>\n",
       "      <td>40.716247</td>\n",
       "      <td>-74.033459</td>\n",
       "      <td>24389</td>\n",
       "      <td>Customer</td>\n",
       "      <td>NaN</td>\n",
       "      <td>0</td>\n",
       "      <td>247580</td>\n",
       "    </tr>\n",
       "    <tr>\n",
       "      <th>247581</th>\n",
       "      <td>173</td>\n",
       "      <td>2016-12-31 23:44:37</td>\n",
       "      <td>2016-12-31 23:47:31</td>\n",
       "      <td>3186</td>\n",
       "      <td>Grove St PATH</td>\n",
       "      <td>40.719586</td>\n",
       "      <td>-74.043117</td>\n",
       "      <td>3270</td>\n",
       "      <td>Jersey &amp; 6th St</td>\n",
       "      <td>40.725289</td>\n",
       "      <td>-74.045572</td>\n",
       "      <td>24641</td>\n",
       "      <td>Subscriber</td>\n",
       "      <td>1978.0</td>\n",
       "      <td>1</td>\n",
       "      <td>247581</td>\n",
       "    </tr>\n",
       "    <tr>\n",
       "      <th>247582</th>\n",
       "      <td>2424</td>\n",
       "      <td>2016-12-31 23:44:50</td>\n",
       "      <td>2017-01-01 00:25:14</td>\n",
       "      <td>3214</td>\n",
       "      <td>Essex Light Rail</td>\n",
       "      <td>40.712774</td>\n",
       "      <td>-74.036486</td>\n",
       "      <td>3214</td>\n",
       "      <td>Essex Light Rail</td>\n",
       "      <td>40.712774</td>\n",
       "      <td>-74.036486</td>\n",
       "      <td>26219</td>\n",
       "      <td>Subscriber</td>\n",
       "      <td>1960.0</td>\n",
       "      <td>2</td>\n",
       "      <td>247582</td>\n",
       "    </tr>\n",
       "    <tr>\n",
       "      <th>247583</th>\n",
       "      <td>2419</td>\n",
       "      <td>2016-12-31 23:44:50</td>\n",
       "      <td>2017-01-01 00:25:10</td>\n",
       "      <td>3214</td>\n",
       "      <td>Essex Light Rail</td>\n",
       "      <td>40.712774</td>\n",
       "      <td>-74.036486</td>\n",
       "      <td>3214</td>\n",
       "      <td>Essex Light Rail</td>\n",
       "      <td>40.712774</td>\n",
       "      <td>-74.036486</td>\n",
       "      <td>24471</td>\n",
       "      <td>Subscriber</td>\n",
       "      <td>1956.0</td>\n",
       "      <td>1</td>\n",
       "      <td>247583</td>\n",
       "    </tr>\n",
       "  </tbody>\n",
       "</table>\n",
       "</div>"
      ],
      "text/plain": [
       "        Trip Duration           Start Time            Stop Time  \\\n",
       "247579            557  2016-12-31 23:10:16  2016-12-31 23:19:33   \n",
       "247580           2749  2016-12-31 23:29:39  2017-01-01 00:15:29   \n",
       "247581            173  2016-12-31 23:44:37  2016-12-31 23:47:31   \n",
       "247582           2424  2016-12-31 23:44:50  2017-01-01 00:25:14   \n",
       "247583           2419  2016-12-31 23:44:50  2017-01-01 00:25:10   \n",
       "\n",
       "        Start Station ID Start Station Name  Start Station Latitude  \\\n",
       "247579              3214   Essex Light Rail               40.712774   \n",
       "247580              3183     Exchange Place               40.716247   \n",
       "247581              3186      Grove St PATH               40.719586   \n",
       "247582              3214   Essex Light Rail               40.712774   \n",
       "247583              3214   Essex Light Rail               40.712774   \n",
       "\n",
       "        Start Station Longitude  End Station ID  End Station Name  \\\n",
       "247579               -74.036486            3203     Hamilton Park   \n",
       "247580               -74.033459            3183    Exchange Place   \n",
       "247581               -74.043117            3270   Jersey & 6th St   \n",
       "247582               -74.036486            3214  Essex Light Rail   \n",
       "247583               -74.036486            3214  Essex Light Rail   \n",
       "\n",
       "        End Station Latitude  End Station Longitude  Bike ID   User Type  \\\n",
       "247579             40.727596             -74.044247    24465  Subscriber   \n",
       "247580             40.716247             -74.033459    24389    Customer   \n",
       "247581             40.725289             -74.045572    24641  Subscriber   \n",
       "247582             40.712774             -74.036486    26219  Subscriber   \n",
       "247583             40.712774             -74.036486    24471  Subscriber   \n",
       "\n",
       "        Birth Year  Gender      id  \n",
       "247579      1981.0       2  247579  \n",
       "247580         NaN       0  247580  \n",
       "247581      1978.0       1  247581  \n",
       "247582      1960.0       2  247582  \n",
       "247583      1956.0       1  247583  "
      ]
     },
     "execution_count": 5,
     "metadata": {},
     "output_type": "execute_result"
    }
   ],
   "source": [
    "df_bike.tail(5)"
   ]
  },
  {
   "cell_type": "markdown",
   "metadata": {},
   "source": [
    "We can check that there are almost 250k records in this df. There are also some observations to take into account based on the data dictionary that came with the starter kit:\n",
    "* `Trip Duration` is in seconds\n",
    "* `Gender` can be `0=unknown`, `1=male`, and `2=female`\n",
    "* `User Type` has values `Customer= 24 hr pass or 3-day user` and `Subscriber=Annual member`\n",
    "\n",
    "I will now calculate some basic descriptive statistics for numerical columns from the df:"
   ]
  },
  {
   "cell_type": "code",
   "execution_count": 6,
   "metadata": {},
   "outputs": [
    {
     "data": {
      "text/html": [
       "<div>\n",
       "<style scoped>\n",
       "    .dataframe tbody tr th:only-of-type {\n",
       "        vertical-align: middle;\n",
       "    }\n",
       "\n",
       "    .dataframe tbody tr th {\n",
       "        vertical-align: top;\n",
       "    }\n",
       "\n",
       "    .dataframe thead th {\n",
       "        text-align: right;\n",
       "    }\n",
       "</style>\n",
       "<table border=\"1\" class=\"dataframe\">\n",
       "  <thead>\n",
       "    <tr style=\"text-align: right;\">\n",
       "      <th></th>\n",
       "      <th>Trip Duration</th>\n",
       "      <th>Start Station ID</th>\n",
       "      <th>Start Station Latitude</th>\n",
       "      <th>Start Station Longitude</th>\n",
       "      <th>End Station ID</th>\n",
       "      <th>End Station Latitude</th>\n",
       "      <th>End Station Longitude</th>\n",
       "      <th>Bike ID</th>\n",
       "      <th>Birth Year</th>\n",
       "      <th>Gender</th>\n",
       "      <th>id</th>\n",
       "    </tr>\n",
       "  </thead>\n",
       "  <tbody>\n",
       "    <tr>\n",
       "      <th>count</th>\n",
       "      <td>2.475840e+05</td>\n",
       "      <td>247584.000000</td>\n",
       "      <td>247584.000000</td>\n",
       "      <td>247584.000000</td>\n",
       "      <td>247584.000000</td>\n",
       "      <td>247584.000000</td>\n",
       "      <td>247584.000000</td>\n",
       "      <td>247584.000000</td>\n",
       "      <td>228585.000000</td>\n",
       "      <td>247584.000000</td>\n",
       "      <td>247584.000000</td>\n",
       "    </tr>\n",
       "    <tr>\n",
       "      <th>mean</th>\n",
       "      <td>8.856305e+02</td>\n",
       "      <td>3207.065206</td>\n",
       "      <td>40.723121</td>\n",
       "      <td>-74.046438</td>\n",
       "      <td>3203.572553</td>\n",
       "      <td>40.722594</td>\n",
       "      <td>-74.045855</td>\n",
       "      <td>24935.260481</td>\n",
       "      <td>1979.335276</td>\n",
       "      <td>1.123534</td>\n",
       "      <td>123791.500000</td>\n",
       "    </tr>\n",
       "    <tr>\n",
       "      <th>std</th>\n",
       "      <td>3.593798e+04</td>\n",
       "      <td>26.955103</td>\n",
       "      <td>0.008199</td>\n",
       "      <td>0.011211</td>\n",
       "      <td>61.579494</td>\n",
       "      <td>0.007958</td>\n",
       "      <td>0.011283</td>\n",
       "      <td>748.469712</td>\n",
       "      <td>9.596809</td>\n",
       "      <td>0.518687</td>\n",
       "      <td>71471.488861</td>\n",
       "    </tr>\n",
       "    <tr>\n",
       "      <th>min</th>\n",
       "      <td>6.100000e+01</td>\n",
       "      <td>3183.000000</td>\n",
       "      <td>40.692640</td>\n",
       "      <td>-74.096937</td>\n",
       "      <td>147.000000</td>\n",
       "      <td>40.692216</td>\n",
       "      <td>-74.096937</td>\n",
       "      <td>14552.000000</td>\n",
       "      <td>1900.000000</td>\n",
       "      <td>0.000000</td>\n",
       "      <td>0.000000</td>\n",
       "    </tr>\n",
       "    <tr>\n",
       "      <th>25%</th>\n",
       "      <td>2.480000e+02</td>\n",
       "      <td>3186.000000</td>\n",
       "      <td>40.717732</td>\n",
       "      <td>-74.050656</td>\n",
       "      <td>3186.000000</td>\n",
       "      <td>40.716540</td>\n",
       "      <td>-74.050444</td>\n",
       "      <td>24491.000000</td>\n",
       "      <td>1974.000000</td>\n",
       "      <td>1.000000</td>\n",
       "      <td>61895.750000</td>\n",
       "    </tr>\n",
       "    <tr>\n",
       "      <th>50%</th>\n",
       "      <td>3.900000e+02</td>\n",
       "      <td>3201.000000</td>\n",
       "      <td>40.721525</td>\n",
       "      <td>-74.044247</td>\n",
       "      <td>3199.000000</td>\n",
       "      <td>40.721124</td>\n",
       "      <td>-74.043117</td>\n",
       "      <td>24609.000000</td>\n",
       "      <td>1981.000000</td>\n",
       "      <td>1.000000</td>\n",
       "      <td>123791.500000</td>\n",
       "    </tr>\n",
       "    <tr>\n",
       "      <th>75%</th>\n",
       "      <td>6.660000e+02</td>\n",
       "      <td>3211.000000</td>\n",
       "      <td>40.727596</td>\n",
       "      <td>-74.038051</td>\n",
       "      <td>3211.000000</td>\n",
       "      <td>40.727224</td>\n",
       "      <td>-74.036486</td>\n",
       "      <td>24719.000000</td>\n",
       "      <td>1986.000000</td>\n",
       "      <td>1.000000</td>\n",
       "      <td>185687.250000</td>\n",
       "    </tr>\n",
       "    <tr>\n",
       "      <th>max</th>\n",
       "      <td>1.632981e+07</td>\n",
       "      <td>3426.000000</td>\n",
       "      <td>40.752559</td>\n",
       "      <td>-74.032108</td>\n",
       "      <td>3426.000000</td>\n",
       "      <td>40.801343</td>\n",
       "      <td>-73.957390</td>\n",
       "      <td>27274.000000</td>\n",
       "      <td>2000.000000</td>\n",
       "      <td>2.000000</td>\n",
       "      <td>247583.000000</td>\n",
       "    </tr>\n",
       "  </tbody>\n",
       "</table>\n",
       "</div>"
      ],
      "text/plain": [
       "       Trip Duration  Start Station ID  Start Station Latitude  \\\n",
       "count   2.475840e+05     247584.000000           247584.000000   \n",
       "mean    8.856305e+02       3207.065206               40.723121   \n",
       "std     3.593798e+04         26.955103                0.008199   \n",
       "min     6.100000e+01       3183.000000               40.692640   \n",
       "25%     2.480000e+02       3186.000000               40.717732   \n",
       "50%     3.900000e+02       3201.000000               40.721525   \n",
       "75%     6.660000e+02       3211.000000               40.727596   \n",
       "max     1.632981e+07       3426.000000               40.752559   \n",
       "\n",
       "       Start Station Longitude  End Station ID  End Station Latitude  \\\n",
       "count            247584.000000   247584.000000         247584.000000   \n",
       "mean                -74.046438     3203.572553             40.722594   \n",
       "std                   0.011211       61.579494              0.007958   \n",
       "min                 -74.096937      147.000000             40.692216   \n",
       "25%                 -74.050656     3186.000000             40.716540   \n",
       "50%                 -74.044247     3199.000000             40.721124   \n",
       "75%                 -74.038051     3211.000000             40.727224   \n",
       "max                 -74.032108     3426.000000             40.801343   \n",
       "\n",
       "       End Station Longitude        Bike ID     Birth Year         Gender  \\\n",
       "count          247584.000000  247584.000000  228585.000000  247584.000000   \n",
       "mean              -74.045855   24935.260481    1979.335276       1.123534   \n",
       "std                 0.011283     748.469712       9.596809       0.518687   \n",
       "min               -74.096937   14552.000000    1900.000000       0.000000   \n",
       "25%               -74.050444   24491.000000    1974.000000       1.000000   \n",
       "50%               -74.043117   24609.000000    1981.000000       1.000000   \n",
       "75%               -74.036486   24719.000000    1986.000000       1.000000   \n",
       "max               -73.957390   27274.000000    2000.000000       2.000000   \n",
       "\n",
       "                  id  \n",
       "count  247584.000000  \n",
       "mean   123791.500000  \n",
       "std     71471.488861  \n",
       "min         0.000000  \n",
       "25%     61895.750000  \n",
       "50%    123791.500000  \n",
       "75%    185687.250000  \n",
       "max    247583.000000  "
      ]
     },
     "execution_count": 6,
     "metadata": {},
     "output_type": "execute_result"
    }
   ],
   "source": [
    "df_bike.describe()"
   ]
  },
  {
   "cell_type": "markdown",
   "metadata": {},
   "source": [
    "Some things to note from the above description:\n",
    "* There is something interesting going on with the `Trip Durantion`, given it jump five orders of magnitude between the 75th percentile and the max\n",
    "* The minimum `Birth Year` is 1900, which equates to an age of 116\n",
    "* The minimum for the `End Station ID` is 147, which is not congruent with the minimum for the `Start Station ID`. This is something that I will need to look into to avoid errors in my analysis\n",
    "* Latitud and Longitude both show small stdev, so it is safe to assume there are no major discrepancies between these set of values\n",
    "\n",
    "Moving along, I will now scout for missing values and duplicates:"
   ]
  },
  {
   "cell_type": "code",
   "execution_count": 7,
   "metadata": {},
   "outputs": [
    {
     "data": {
      "text/plain": [
       "Trip Duration                  0\n",
       "Start Time                     0\n",
       "Stop Time                      0\n",
       "Start Station ID               0\n",
       "Start Station Name             0\n",
       "Start Station Latitude         0\n",
       "Start Station Longitude        0\n",
       "End Station ID                 0\n",
       "End Station Name               0\n",
       "End Station Latitude           0\n",
       "End Station Longitude          0\n",
       "Bike ID                        0\n",
       "User Type                    380\n",
       "Birth Year                 18999\n",
       "Gender                         0\n",
       "id                             0\n",
       "dtype: int64"
      ]
     },
     "execution_count": 7,
     "metadata": {},
     "output_type": "execute_result"
    }
   ],
   "source": [
    "df_bike.isna().sum()"
   ]
  },
  {
   "cell_type": "code",
   "execution_count": 8,
   "metadata": {},
   "outputs": [
    {
     "data": {
      "text/plain": [
       "0"
      ]
     },
     "execution_count": 8,
     "metadata": {},
     "output_type": "execute_result"
    }
   ],
   "source": [
    "df_bike.duplicated().sum()"
   ]
  },
  {
   "cell_type": "markdown",
   "metadata": {},
   "source": [
    "At first glance, it is clear there is some major problems with the `Birth Year` of some users, as well as the `User Type `in fewer instances. Keep in mind that the `Gender` column has values of `0` which correspondon to an `Unknown` genre, so this is also something that will be addressed further down the road.\n",
    "\n",
    "For now, let's continue with the exploratory analysis and see what data types are present in the df:"
   ]
  },
  {
   "cell_type": "code",
   "execution_count": 9,
   "metadata": {},
   "outputs": [
    {
     "data": {
      "text/plain": [
       "Trip Duration                int64\n",
       "Start Time                  object\n",
       "Stop Time                   object\n",
       "Start Station ID             int64\n",
       "Start Station Name          object\n",
       "Start Station Latitude     float64\n",
       "Start Station Longitude    float64\n",
       "End Station ID               int64\n",
       "End Station Name            object\n",
       "End Station Latitude       float64\n",
       "End Station Longitude      float64\n",
       "Bike ID                      int64\n",
       "User Type                   object\n",
       "Birth Year                 float64\n",
       "Gender                       int64\n",
       "id                           int64\n",
       "dtype: object"
      ]
     },
     "execution_count": 9,
     "metadata": {},
     "output_type": "execute_result"
    }
   ],
   "source": [
    "df_bike.dtypes"
   ]
  },
  {
   "cell_type": "markdown",
   "metadata": {},
   "source": [
    "It is key to note that both `Start Time` and `Stop Time` need to be casted into `datetime64` data type. I will also have to address the problem with `Birth Year` (which should be an integer) once I have corrected all the missing values."
   ]
  },
  {
   "cell_type": "code",
   "execution_count": 10,
   "metadata": {},
   "outputs": [
    {
     "data": {
      "text/plain": [
       "Trip Duration                       int64\n",
       "Start Time                 datetime64[ns]\n",
       "Stop Time                  datetime64[ns]\n",
       "Start Station ID                    int64\n",
       "Start Station Name                 object\n",
       "Start Station Latitude            float64\n",
       "Start Station Longitude           float64\n",
       "End Station ID                      int64\n",
       "End Station Name                   object\n",
       "End Station Latitude              float64\n",
       "End Station Longitude             float64\n",
       "Bike ID                             int64\n",
       "User Type                          object\n",
       "Birth Year                        float64\n",
       "Gender                              int64\n",
       "id                                  int64\n",
       "dtype: object"
      ]
     },
     "execution_count": 10,
     "metadata": {},
     "output_type": "execute_result"
    }
   ],
   "source": [
    "# casting objects as timestamps with pd.to_datetime()\n",
    "df_bike['Start Time'] = pd.to_datetime(df_bike['Start Time'])\n",
    "df_bike['Stop Time'] = pd.to_datetime(df_bike['Stop Time'])\n",
    "\n",
    "df_bike.dtypes"
   ]
  },
  {
   "cell_type": "markdown",
   "metadata": {},
   "source": [
    "# Cleaning and Transforming Bike Rental Data"
   ]
  },
  {
   "cell_type": "markdown",
   "metadata": {},
   "source": [
    "Quick summary of our initial data exploration:\n",
    "* `Birth Year`: suspicious minimum and missing data\n",
    "* `User Type`: missing data\n",
    "* `Trip Duration`: suspicious maximum\n",
    "* `Gender`: what are the unknowns\n",
    "* `End Station ID`: incongruent minimum\n",
    "\n",
    "Now we will update columns names to something that will help us in the future once we stablish our db schema:"
   ]
  },
  {
   "cell_type": "code",
   "execution_count": 11,
   "metadata": {},
   "outputs": [
    {
     "data": {
      "text/html": [
       "<div>\n",
       "<style scoped>\n",
       "    .dataframe tbody tr th:only-of-type {\n",
       "        vertical-align: middle;\n",
       "    }\n",
       "\n",
       "    .dataframe tbody tr th {\n",
       "        vertical-align: top;\n",
       "    }\n",
       "\n",
       "    .dataframe thead th {\n",
       "        text-align: right;\n",
       "    }\n",
       "</style>\n",
       "<table border=\"1\" class=\"dataframe\">\n",
       "  <thead>\n",
       "    <tr style=\"text-align: right;\">\n",
       "      <th></th>\n",
       "      <th>trip_duration</th>\n",
       "      <th>start_time</th>\n",
       "      <th>stop_time</th>\n",
       "      <th>start_station_id</th>\n",
       "      <th>start_station_name</th>\n",
       "      <th>start_station_latitude</th>\n",
       "      <th>start_station_longitude</th>\n",
       "      <th>end_station_id</th>\n",
       "      <th>end_station_name</th>\n",
       "      <th>end_station_latitude</th>\n",
       "      <th>end_station_longitude</th>\n",
       "      <th>bike_id</th>\n",
       "      <th>user_type</th>\n",
       "      <th>birth_year</th>\n",
       "      <th>gender</th>\n",
       "      <th>id</th>\n",
       "    </tr>\n",
       "  </thead>\n",
       "  <tbody>\n",
       "    <tr>\n",
       "      <th>0</th>\n",
       "      <td>362</td>\n",
       "      <td>2016-01-01 00:02:52</td>\n",
       "      <td>2016-01-01 00:08:54</td>\n",
       "      <td>3186</td>\n",
       "      <td>Grove St PATH</td>\n",
       "      <td>40.719586</td>\n",
       "      <td>-74.043117</td>\n",
       "      <td>3209</td>\n",
       "      <td>Brunswick St</td>\n",
       "      <td>40.724176</td>\n",
       "      <td>-74.050656</td>\n",
       "      <td>24647</td>\n",
       "      <td>Subscriber</td>\n",
       "      <td>1964.0</td>\n",
       "      <td>2</td>\n",
       "      <td>0</td>\n",
       "    </tr>\n",
       "    <tr>\n",
       "      <th>1</th>\n",
       "      <td>200</td>\n",
       "      <td>2016-01-01 00:18:22</td>\n",
       "      <td>2016-01-01 00:21:42</td>\n",
       "      <td>3186</td>\n",
       "      <td>Grove St PATH</td>\n",
       "      <td>40.719586</td>\n",
       "      <td>-74.043117</td>\n",
       "      <td>3213</td>\n",
       "      <td>Van Vorst Park</td>\n",
       "      <td>40.718489</td>\n",
       "      <td>-74.047727</td>\n",
       "      <td>24605</td>\n",
       "      <td>Subscriber</td>\n",
       "      <td>1962.0</td>\n",
       "      <td>1</td>\n",
       "      <td>1</td>\n",
       "    </tr>\n",
       "    <tr>\n",
       "      <th>2</th>\n",
       "      <td>202</td>\n",
       "      <td>2016-01-01 00:18:25</td>\n",
       "      <td>2016-01-01 00:21:47</td>\n",
       "      <td>3186</td>\n",
       "      <td>Grove St PATH</td>\n",
       "      <td>40.719586</td>\n",
       "      <td>-74.043117</td>\n",
       "      <td>3213</td>\n",
       "      <td>Van Vorst Park</td>\n",
       "      <td>40.718489</td>\n",
       "      <td>-74.047727</td>\n",
       "      <td>24689</td>\n",
       "      <td>Subscriber</td>\n",
       "      <td>1962.0</td>\n",
       "      <td>2</td>\n",
       "      <td>2</td>\n",
       "    </tr>\n",
       "    <tr>\n",
       "      <th>3</th>\n",
       "      <td>248</td>\n",
       "      <td>2016-01-01 00:23:13</td>\n",
       "      <td>2016-01-01 00:27:21</td>\n",
       "      <td>3209</td>\n",
       "      <td>Brunswick St</td>\n",
       "      <td>40.724176</td>\n",
       "      <td>-74.050656</td>\n",
       "      <td>3203</td>\n",
       "      <td>Hamilton Park</td>\n",
       "      <td>40.727596</td>\n",
       "      <td>-74.044247</td>\n",
       "      <td>24693</td>\n",
       "      <td>Subscriber</td>\n",
       "      <td>1984.0</td>\n",
       "      <td>1</td>\n",
       "      <td>3</td>\n",
       "    </tr>\n",
       "    <tr>\n",
       "      <th>4</th>\n",
       "      <td>903</td>\n",
       "      <td>2016-01-01 01:03:20</td>\n",
       "      <td>2016-01-01 01:18:24</td>\n",
       "      <td>3195</td>\n",
       "      <td>Sip Ave</td>\n",
       "      <td>40.730743</td>\n",
       "      <td>-74.063784</td>\n",
       "      <td>3210</td>\n",
       "      <td>Pershing Field</td>\n",
       "      <td>40.742677</td>\n",
       "      <td>-74.051789</td>\n",
       "      <td>24573</td>\n",
       "      <td>Customer</td>\n",
       "      <td>NaN</td>\n",
       "      <td>0</td>\n",
       "      <td>4</td>\n",
       "    </tr>\n",
       "  </tbody>\n",
       "</table>\n",
       "</div>"
      ],
      "text/plain": [
       "   trip_duration          start_time           stop_time  start_station_id  \\\n",
       "0            362 2016-01-01 00:02:52 2016-01-01 00:08:54              3186   \n",
       "1            200 2016-01-01 00:18:22 2016-01-01 00:21:42              3186   \n",
       "2            202 2016-01-01 00:18:25 2016-01-01 00:21:47              3186   \n",
       "3            248 2016-01-01 00:23:13 2016-01-01 00:27:21              3209   \n",
       "4            903 2016-01-01 01:03:20 2016-01-01 01:18:24              3195   \n",
       "\n",
       "  start_station_name  start_station_latitude  start_station_longitude  \\\n",
       "0      Grove St PATH               40.719586               -74.043117   \n",
       "1      Grove St PATH               40.719586               -74.043117   \n",
       "2      Grove St PATH               40.719586               -74.043117   \n",
       "3       Brunswick St               40.724176               -74.050656   \n",
       "4            Sip Ave               40.730743               -74.063784   \n",
       "\n",
       "   end_station_id end_station_name  end_station_latitude  \\\n",
       "0            3209     Brunswick St             40.724176   \n",
       "1            3213   Van Vorst Park             40.718489   \n",
       "2            3213   Van Vorst Park             40.718489   \n",
       "3            3203    Hamilton Park             40.727596   \n",
       "4            3210   Pershing Field             40.742677   \n",
       "\n",
       "   end_station_longitude  bike_id   user_type  birth_year  gender  id  \n",
       "0             -74.050656    24647  Subscriber      1964.0       2   0  \n",
       "1             -74.047727    24605  Subscriber      1962.0       1   1  \n",
       "2             -74.047727    24689  Subscriber      1962.0       2   2  \n",
       "3             -74.044247    24693  Subscriber      1984.0       1   3  \n",
       "4             -74.051789    24573    Customer         NaN       0   4  "
      ]
     },
     "execution_count": 11,
     "metadata": {},
     "output_type": "execute_result"
    }
   ],
   "source": [
    "df_bike.columns = df_bike.columns.map(lambda x: x.replace(' ', '_').lower())\n",
    "df_bike.head()"
   ]
  },
  {
   "cell_type": "markdown",
   "metadata": {},
   "source": [
    "## Calculating `age` using `birth_year`"
   ]
  },
  {
   "cell_type": "code",
   "execution_count": 12,
   "metadata": {},
   "outputs": [
    {
     "data": {
      "text/plain": [
       "215055    116.0\n",
       "136211     82.0\n",
       "164274     79.0\n",
       "187190     79.0\n",
       "180373     79.0\n",
       "213567     79.0\n",
       "177320     76.0\n",
       "112336     76.0\n",
       "149803     76.0\n",
       "124501     75.0\n",
       "Name: age, dtype: float64"
      ]
     },
     "execution_count": 12,
     "metadata": {},
     "output_type": "execute_result"
    }
   ],
   "source": [
    "df_bike['age'] = 2016 - df_bike['birth_year'].values\n",
    "df_bike['age'].sort_values(ascending=False)[:10]"
   ]
  },
  {
   "cell_type": "markdown",
   "metadata": {},
   "source": [
    "We can consider the age of 116 to be an outlier for out dataset, so we will remove it since we are not expecting other riders with that age."
   ]
  },
  {
   "cell_type": "code",
   "execution_count": 13,
   "metadata": {},
   "outputs": [],
   "source": [
    "df_bike.drop([215055], inplace=True)"
   ]
  },
  {
   "cell_type": "markdown",
   "metadata": {},
   "source": [
    "Now let's examine the missing data in `birth_year`:"
   ]
  },
  {
   "cell_type": "code",
   "execution_count": 14,
   "metadata": {},
   "outputs": [
    {
     "data": {
      "text/html": [
       "<div>\n",
       "<style scoped>\n",
       "    .dataframe tbody tr th:only-of-type {\n",
       "        vertical-align: middle;\n",
       "    }\n",
       "\n",
       "    .dataframe tbody tr th {\n",
       "        vertical-align: top;\n",
       "    }\n",
       "\n",
       "    .dataframe thead th {\n",
       "        text-align: right;\n",
       "    }\n",
       "</style>\n",
       "<table border=\"1\" class=\"dataframe\">\n",
       "  <thead>\n",
       "    <tr style=\"text-align: right;\">\n",
       "      <th></th>\n",
       "      <th>trip_duration</th>\n",
       "      <th>start_time</th>\n",
       "      <th>stop_time</th>\n",
       "      <th>start_station_id</th>\n",
       "      <th>start_station_name</th>\n",
       "      <th>start_station_latitude</th>\n",
       "      <th>start_station_longitude</th>\n",
       "      <th>end_station_id</th>\n",
       "      <th>end_station_name</th>\n",
       "      <th>end_station_latitude</th>\n",
       "      <th>end_station_longitude</th>\n",
       "      <th>bike_id</th>\n",
       "      <th>user_type</th>\n",
       "      <th>birth_year</th>\n",
       "      <th>gender</th>\n",
       "      <th>id</th>\n",
       "      <th>age</th>\n",
       "    </tr>\n",
       "  </thead>\n",
       "  <tbody>\n",
       "    <tr>\n",
       "      <th>4</th>\n",
       "      <td>903</td>\n",
       "      <td>2016-01-01 01:03:20</td>\n",
       "      <td>2016-01-01 01:18:24</td>\n",
       "      <td>3195</td>\n",
       "      <td>Sip Ave</td>\n",
       "      <td>40.730743</td>\n",
       "      <td>-74.063784</td>\n",
       "      <td>3210</td>\n",
       "      <td>Pershing Field</td>\n",
       "      <td>40.742677</td>\n",
       "      <td>-74.051789</td>\n",
       "      <td>24573</td>\n",
       "      <td>Customer</td>\n",
       "      <td>NaN</td>\n",
       "      <td>0</td>\n",
       "      <td>4</td>\n",
       "      <td>NaN</td>\n",
       "    </tr>\n",
       "    <tr>\n",
       "      <th>5</th>\n",
       "      <td>883</td>\n",
       "      <td>2016-01-01 01:03:28</td>\n",
       "      <td>2016-01-01 01:18:11</td>\n",
       "      <td>3195</td>\n",
       "      <td>Sip Ave</td>\n",
       "      <td>40.730743</td>\n",
       "      <td>-74.063784</td>\n",
       "      <td>3210</td>\n",
       "      <td>Pershing Field</td>\n",
       "      <td>40.742677</td>\n",
       "      <td>-74.051789</td>\n",
       "      <td>24442</td>\n",
       "      <td>Customer</td>\n",
       "      <td>NaN</td>\n",
       "      <td>0</td>\n",
       "      <td>5</td>\n",
       "      <td>NaN</td>\n",
       "    </tr>\n",
       "    <tr>\n",
       "      <th>22</th>\n",
       "      <td>988</td>\n",
       "      <td>2016-01-01 03:16:33</td>\n",
       "      <td>2016-01-01 03:33:02</td>\n",
       "      <td>3196</td>\n",
       "      <td>Riverview Park</td>\n",
       "      <td>40.744319</td>\n",
       "      <td>-74.043991</td>\n",
       "      <td>3209</td>\n",
       "      <td>Brunswick St</td>\n",
       "      <td>40.724176</td>\n",
       "      <td>-74.050656</td>\n",
       "      <td>24662</td>\n",
       "      <td>Customer</td>\n",
       "      <td>NaN</td>\n",
       "      <td>0</td>\n",
       "      <td>22</td>\n",
       "      <td>NaN</td>\n",
       "    </tr>\n",
       "    <tr>\n",
       "      <th>53</th>\n",
       "      <td>3090</td>\n",
       "      <td>2016-01-01 11:07:15</td>\n",
       "      <td>2016-01-01 11:58:46</td>\n",
       "      <td>3203</td>\n",
       "      <td>Hamilton Park</td>\n",
       "      <td>40.727596</td>\n",
       "      <td>-74.044247</td>\n",
       "      <td>3203</td>\n",
       "      <td>Hamilton Park</td>\n",
       "      <td>40.727596</td>\n",
       "      <td>-74.044247</td>\n",
       "      <td>24444</td>\n",
       "      <td>Customer</td>\n",
       "      <td>NaN</td>\n",
       "      <td>0</td>\n",
       "      <td>53</td>\n",
       "      <td>NaN</td>\n",
       "    </tr>\n",
       "    <tr>\n",
       "      <th>57</th>\n",
       "      <td>788</td>\n",
       "      <td>2016-01-01 11:50:30</td>\n",
       "      <td>2016-01-01 12:03:39</td>\n",
       "      <td>3210</td>\n",
       "      <td>Pershing Field</td>\n",
       "      <td>40.742677</td>\n",
       "      <td>-74.051789</td>\n",
       "      <td>3195</td>\n",
       "      <td>Sip Ave</td>\n",
       "      <td>40.730743</td>\n",
       "      <td>-74.063784</td>\n",
       "      <td>24573</td>\n",
       "      <td>Customer</td>\n",
       "      <td>NaN</td>\n",
       "      <td>0</td>\n",
       "      <td>57</td>\n",
       "      <td>NaN</td>\n",
       "    </tr>\n",
       "  </tbody>\n",
       "</table>\n",
       "</div>"
      ],
      "text/plain": [
       "    trip_duration          start_time           stop_time  start_station_id  \\\n",
       "4             903 2016-01-01 01:03:20 2016-01-01 01:18:24              3195   \n",
       "5             883 2016-01-01 01:03:28 2016-01-01 01:18:11              3195   \n",
       "22            988 2016-01-01 03:16:33 2016-01-01 03:33:02              3196   \n",
       "53           3090 2016-01-01 11:07:15 2016-01-01 11:58:46              3203   \n",
       "57            788 2016-01-01 11:50:30 2016-01-01 12:03:39              3210   \n",
       "\n",
       "   start_station_name  start_station_latitude  start_station_longitude  \\\n",
       "4             Sip Ave               40.730743               -74.063784   \n",
       "5             Sip Ave               40.730743               -74.063784   \n",
       "22     Riverview Park               40.744319               -74.043991   \n",
       "53      Hamilton Park               40.727596               -74.044247   \n",
       "57     Pershing Field               40.742677               -74.051789   \n",
       "\n",
       "    end_station_id end_station_name  end_station_latitude  \\\n",
       "4             3210   Pershing Field             40.742677   \n",
       "5             3210   Pershing Field             40.742677   \n",
       "22            3209     Brunswick St             40.724176   \n",
       "53            3203    Hamilton Park             40.727596   \n",
       "57            3195          Sip Ave             40.730743   \n",
       "\n",
       "    end_station_longitude  bike_id user_type  birth_year  gender  id  age  \n",
       "4              -74.051789    24573  Customer         NaN       0   4  NaN  \n",
       "5              -74.051789    24442  Customer         NaN       0   5  NaN  \n",
       "22             -74.050656    24662  Customer         NaN       0  22  NaN  \n",
       "53             -74.044247    24444  Customer         NaN       0  53  NaN  \n",
       "57             -74.063784    24573  Customer         NaN       0  57  NaN  "
      ]
     },
     "execution_count": 14,
     "metadata": {},
     "output_type": "execute_result"
    }
   ],
   "source": [
    "missing_birth_year = df_bike[df_bike[['birth_year']].isnull().any(axis=1)]\n",
    "missing_birth_year.head()"
   ]
  },
  {
   "cell_type": "markdown",
   "metadata": {},
   "source": [
    "Let's look at the `user_type` and `gender` of this subset of users:"
   ]
  },
  {
   "cell_type": "code",
   "execution_count": 15,
   "metadata": {},
   "outputs": [
    {
     "data": {
      "text/plain": [
       "user_type\n",
       "Customer      15470\n",
       "Subscriber     3529\n",
       "Name: count, dtype: int64"
      ]
     },
     "execution_count": 15,
     "metadata": {},
     "output_type": "execute_result"
    }
   ],
   "source": [
    "missing_birth_year['user_type'].value_counts()"
   ]
  },
  {
   "cell_type": "code",
   "execution_count": 16,
   "metadata": {},
   "outputs": [
    {
     "data": {
      "text/plain": [
       "gender\n",
       "0    18999\n",
       "Name: count, dtype: int64"
      ]
     },
     "execution_count": 16,
     "metadata": {},
     "output_type": "execute_result"
    }
   ],
   "source": [
    "missing_birth_year['gender'].value_counts()"
   ]
  },
  {
   "cell_type": "markdown",
   "metadata": {},
   "source": [
    "From these results, we can notice that:\n",
    "* all records with missing `birth_year` also have unknown `gender`\n",
    "* customer `user_type` account for the vast majority of the missing `birth_year` data.\n",
    "\n",
    "Let's take a look at the percentage of `user_type` with missing `birth_year` data:"
   ]
  },
  {
   "cell_type": "code",
   "execution_count": 17,
   "metadata": {},
   "outputs": [
    {
     "data": {
      "text/plain": [
       "user_type\n",
       "Customer      0.996714\n",
       "Subscriber    0.015232\n",
       "Name: count, dtype: float64"
      ]
     },
     "execution_count": 17,
     "metadata": {},
     "output_type": "execute_result"
    }
   ],
   "source": [
    "missing_birth_year['user_type'].value_counts() / df_bike['user_type'].value_counts()"
   ]
  },
  {
   "cell_type": "markdown",
   "metadata": {},
   "source": [
    "Now, since it is known that all users with missing `birth_year` are also users with unknown gender, we want to determine the percentage of users with unknown gender that have a missing `birth_year` for each `user_type`, starting with `Subscriber`s:"
   ]
  },
  {
   "cell_type": "code",
   "execution_count": 18,
   "metadata": {},
   "outputs": [
    {
     "data": {
      "text/plain": [
       "gender\n",
       "0    0.796434\n",
       "1         NaN\n",
       "2         NaN\n",
       "Name: count, dtype: float64"
      ]
     },
     "execution_count": 18,
     "metadata": {},
     "output_type": "execute_result"
    }
   ],
   "source": [
    "missing_birth_year[missing_birth_year['user_type'] == 'Subscriber']['gender'].value_counts() / df_bike[df_bike['user_type'] == 'Subscriber']['gender'].value_counts()"
   ]
  },
  {
   "cell_type": "markdown",
   "metadata": {},
   "source": [
    "And then with `Customer`s:"
   ]
  },
  {
   "cell_type": "code",
   "execution_count": 19,
   "metadata": {},
   "outputs": [
    {
     "data": {
      "text/plain": [
       "gender\n",
       "0    1.0\n",
       "1    NaN\n",
       "2    NaN\n",
       "Name: count, dtype: float64"
      ]
     },
     "execution_count": 19,
     "metadata": {},
     "output_type": "execute_result"
    }
   ],
   "source": [
    "missing_birth_year[missing_birth_year['user_type'] == 'Customer']['gender'].value_counts() / df_bike[df_bike['user_type'] == 'Customer']['gender'].value_counts()"
   ]
  },
  {
   "cell_type": "markdown",
   "metadata": {},
   "source": [
    "Notice that:\n",
    "* 99.7% of customers are missing `birth_year`, most likely because that information is optional in the rental contract\n",
    "* 1.5% of subscribers are missing `birth_year`, this must be the case because to become an annual member, they need to provide more information to the rental company\n",
    "* all records with missing `birth_year` also have unknown `gender`\n",
    "* 79.6% of subscribers with unknown `genre` have missing `birth_year`\n",
    "* 100% of customers with unknown `genre` have missing `birth_year`\n",
    "\n",
    "From these observations we can conclude that almost all customers have a missing `birth_year`, and that there is a clear pattern between users with unknown `genre` and missing `birth_year`. Regardless, it would be detrimental to the analysis to remove all entries with missing `birth_year` since we would be excluding most of our customers, as well as the majority of the subscribers (and users) with unknown `genre`. Still, it is important to keep this in mind when performing further analysis."
   ]
  },
  {
   "cell_type": "markdown",
   "metadata": {},
   "source": [
    "## Cleaning `user_type`"
   ]
  },
  {
   "cell_type": "markdown",
   "metadata": {},
   "source": [
    "Moving right along with the missing `user_type` entries, we know there are 380 missing records, which represent less than 1% of the total. We are going to check if these records are also missing `birth_year` or have unknown `genre`:"
   ]
  },
  {
   "cell_type": "code",
   "execution_count": 20,
   "metadata": {},
   "outputs": [
    {
     "data": {
      "text/plain": [
       "0"
      ]
     },
     "execution_count": 20,
     "metadata": {},
     "output_type": "execute_result"
    }
   ],
   "source": [
    "missing_user_type = df_bike[df_bike[['user_type']].isnull().any(axis=1)]\n",
    "missing_user_type['birth_year'].isna().sum()"
   ]
  },
  {
   "cell_type": "code",
   "execution_count": 21,
   "metadata": {},
   "outputs": [
    {
     "data": {
      "text/plain": [
       "gender\n",
       "1    262\n",
       "2    118\n",
       "Name: id, dtype: int64"
      ]
     },
     "execution_count": 21,
     "metadata": {},
     "output_type": "execute_result"
    }
   ],
   "source": [
    "missing_user_type.groupby(['gender']).count()['id']"
   ]
  },
  {
   "cell_type": "markdown",
   "metadata": {},
   "source": [
    "If we consider the previous pattern that users with missing `birth_year` also had unknown `genre`, and these were mostly customers, it is safe to assume that those with a missing `user_type` are subscribers, but it is possible that some are also customers.\n",
    "\n",
    "Let's take a look at the missing data over the course of the year using a bar chart:"
   ]
  },
  {
   "cell_type": "code",
   "execution_count": 22,
   "metadata": {},
   "outputs": [
    {
     "data": {
      "image/png": "[encoded data removed]",
      "text/plain": [
       "<Figure size 640x480 with 1 Axes>"
      ]
     },
     "metadata": {},
     "output_type": "display_data"
    }
   ],
   "source": [
    "my = (missing_user_type.resample('M', on='start_time').count()['id'] / len(missing_user_type)).rename('missing')\n",
    "dy = (df_bike.resample('M', on='start_time').count()['id'] / len(df_bike)).rename('full')\n",
    "combo = pd.concat([my, dy], axis=1)\n",
    "\n",
    "ax = combo.plot.bar();"
   ]
  },
  {
   "cell_type": "markdown",
   "metadata": {},
   "source": [
    "There is no clear pattern that will help us shed some light on why `user_type` data might be missing, we can only assume that something might have occurred during the 2nd half of the year that caused so much data to be missing. Still, even if the amount of missing data is rather small, it is not viable to remove it. The best course of action is to replace the missing values with an `unknown` category to help the analytics team keep track of this issue further down the line."
   ]
  },
  {
   "cell_type": "code",
   "execution_count": 23,
   "metadata": {},
   "outputs": [],
   "source": [
    "df_bike.fillna({'user_type': 'Unknown'}, inplace=True)"
   ]
  },
  {
   "cell_type": "code",
   "execution_count": 24,
   "metadata": {},
   "outputs": [
    {
     "name": "stdout",
     "output_type": "stream",
     "text": [
      "<class 'pandas.core.frame.DataFrame'>\n",
      "Index: 247583 entries, 0 to 247583\n",
      "Data columns (total 17 columns):\n",
      " #   Column                   Non-Null Count   Dtype         \n",
      "---  ------                   --------------   -----         \n",
      " 0   trip_duration            247583 non-null  int64         \n",
      " 1   start_time               247583 non-null  datetime64[ns]\n",
      " 2   stop_time                247583 non-null  datetime64[ns]\n",
      " 3   start_station_id         247583 non-null  int64         \n",
      " 4   start_station_name       247583 non-null  object        \n",
      " 5   start_station_latitude   247583 non-null  float64       \n",
      " 6   start_station_longitude  247583 non-null  float64       \n",
      " 7   end_station_id           247583 non-null  int64         \n",
      " 8   end_station_name         247583 non-null  object        \n",
      " 9   end_station_latitude     247583 non-null  float64       \n",
      " 10  end_station_longitude    247583 non-null  float64       \n",
      " 11  bike_id                  247583 non-null  int64         \n",
      " 12  user_type                247583 non-null  object        \n",
      " 13  birth_year               228584 non-null  float64       \n",
      " 14  gender                   247583 non-null  int64         \n",
      " 15  id                       247583 non-null  int64         \n",
      " 16  age                      228584 non-null  float64       \n",
      "dtypes: datetime64[ns](2), float64(6), int64(6), object(3)\n",
      "memory usage: 34.0+ MB\n"
     ]
    }
   ],
   "source": [
    "df_bike.info()"
   ]
  },
  {
   "cell_type": "markdown",
   "metadata": {},
   "source": [
    "## Analyzing `gender`"
   ]
  },
  {
   "cell_type": "markdown",
   "metadata": {},
   "source": [
    "In previous sections, we noticed that customers whose `gender` is unknown are also missing their `birth_year` information in the system. Now, we will look at the distribution of `gender` for each `user_type`:"
   ]
  },
  {
   "cell_type": "code",
   "execution_count": 25,
   "metadata": {},
   "outputs": [
    {
     "data": {
      "text/plain": [
       "user_type   gender\n",
       "Customer    0          15470\n",
       "            1             36\n",
       "            2             15\n",
       "Subscriber  0           4431\n",
       "            1         176898\n",
       "            2          50353\n",
       "Unknown     1            262\n",
       "            2            118\n",
       "Name: id, dtype: int64"
      ]
     },
     "execution_count": 25,
     "metadata": {},
     "output_type": "execute_result"
    }
   ],
   "source": [
    "df_bike.groupby(['user_type', 'gender']).count()['id']"
   ]
  },
  {
   "cell_type": "markdown",
   "metadata": {},
   "source": [
    "If we look at this information as a percentage, we get:"
   ]
  },
  {
   "cell_type": "code",
   "execution_count": 26,
   "metadata": {},
   "outputs": [
    {
     "data": {
      "text/plain": [
       "user_type   gender\n",
       "Customer    0         0.777348\n",
       "            1         0.000203\n",
       "            2         0.000297\n",
       "Subscriber  0         0.222652\n",
       "            1         0.998318\n",
       "            2         0.997366\n",
       "Unknown     1         0.001479\n",
       "            2         0.002337\n",
       "dtype: float64"
      ]
     },
     "execution_count": 26,
     "metadata": {},
     "output_type": "execute_result"
    }
   ],
   "source": [
    "df_bike.groupby(['user_type', 'gender']).count()['id'] / df_bike['gender'].value_counts()"
   ]
  },
  {
   "cell_type": "markdown",
   "metadata": {},
   "source": [
    "We can observe that 77.7% of users with unknown `gender` are customers, and 22.3% are subscribers. The following output also shows that this 77.7% of unknown genders represent the vast majority of our customers, so we cannot afford to scrap them from the database. We need to keep in mind that demographic information is only really useful for subscribers."
   ]
  },
  {
   "cell_type": "code",
   "execution_count": 27,
   "metadata": {},
   "outputs": [
    {
     "data": {
      "text/plain": [
       "user_type   gender\n",
       "Customer    0         0.996714\n",
       "            1         0.002319\n",
       "            2         0.000966\n",
       "Subscriber  0         0.019125\n",
       "            1         0.763538\n",
       "            2         0.217337\n",
       "Unknown     1         0.689474\n",
       "            2         0.310526\n",
       "dtype: float64"
      ]
     },
     "execution_count": 27,
     "metadata": {},
     "output_type": "execute_result"
    }
   ],
   "source": [
    "df_bike.groupby(['user_type', 'gender']).count()['id'] / df_bike['user_type'].value_counts()"
   ]
  },
  {
   "cell_type": "markdown",
   "metadata": {},
   "source": [
    "## Investigating `trip_duration` suspicious maximum"
   ]
  },
  {
   "cell_type": "markdown",
   "metadata": {},
   "source": [
    "Remember that `trip_duration` is given in seconds, so we can determine trip duration in minutes, hours and days with the appropriate operations:"
   ]
  },
  {
   "cell_type": "code",
   "execution_count": 30,
   "metadata": {},
   "outputs": [
    {
     "data": {
      "text/html": [
       "<div>\n",
       "<style scoped>\n",
       "    .dataframe tbody tr th:only-of-type {\n",
       "        vertical-align: middle;\n",
       "    }\n",
       "\n",
       "    .dataframe tbody tr th {\n",
       "        vertical-align: top;\n",
       "    }\n",
       "\n",
       "    .dataframe thead th {\n",
       "        text-align: right;\n",
       "    }\n",
       "</style>\n",
       "<table border=\"1\" class=\"dataframe\">\n",
       "  <thead>\n",
       "    <tr style=\"text-align: right;\">\n",
       "      <th></th>\n",
       "      <th>trip_duration</th>\n",
       "      <th>trip_minutes</th>\n",
       "      <th>trip_hours</th>\n",
       "      <th>trip_days</th>\n",
       "    </tr>\n",
       "  </thead>\n",
       "  <tbody>\n",
       "    <tr>\n",
       "      <th>count</th>\n",
       "      <td>2.475830e+05</td>\n",
       "      <td>247583.000000</td>\n",
       "      <td>247583.000000</td>\n",
       "      <td>247583.000000</td>\n",
       "    </tr>\n",
       "    <tr>\n",
       "      <th>mean</th>\n",
       "      <td>8.856300e+02</td>\n",
       "      <td>14.760494</td>\n",
       "      <td>0.246006</td>\n",
       "      <td>0.009163</td>\n",
       "    </tr>\n",
       "    <tr>\n",
       "      <th>std</th>\n",
       "      <td>3.593805e+04</td>\n",
       "      <td>598.967493</td>\n",
       "      <td>9.982797</td>\n",
       "      <td>0.415978</td>\n",
       "    </tr>\n",
       "    <tr>\n",
       "      <th>min</th>\n",
       "      <td>6.100000e+01</td>\n",
       "      <td>1.020000</td>\n",
       "      <td>0.020000</td>\n",
       "      <td>0.000000</td>\n",
       "    </tr>\n",
       "    <tr>\n",
       "      <th>25%</th>\n",
       "      <td>2.480000e+02</td>\n",
       "      <td>4.130000</td>\n",
       "      <td>0.070000</td>\n",
       "      <td>0.000000</td>\n",
       "    </tr>\n",
       "    <tr>\n",
       "      <th>50%</th>\n",
       "      <td>3.900000e+02</td>\n",
       "      <td>6.500000</td>\n",
       "      <td>0.110000</td>\n",
       "      <td>0.000000</td>\n",
       "    </tr>\n",
       "    <tr>\n",
       "      <th>75%</th>\n",
       "      <td>6.660000e+02</td>\n",
       "      <td>11.100000</td>\n",
       "      <td>0.180000</td>\n",
       "      <td>0.010000</td>\n",
       "    </tr>\n",
       "    <tr>\n",
       "      <th>max</th>\n",
       "      <td>1.632981e+07</td>\n",
       "      <td>272163.470000</td>\n",
       "      <td>4536.060000</td>\n",
       "      <td>189.000000</td>\n",
       "    </tr>\n",
       "  </tbody>\n",
       "</table>\n",
       "</div>"
      ],
      "text/plain": [
       "       trip_duration   trip_minutes     trip_hours      trip_days\n",
       "count   2.475830e+05  247583.000000  247583.000000  247583.000000\n",
       "mean    8.856300e+02      14.760494       0.246006       0.009163\n",
       "std     3.593805e+04     598.967493       9.982797       0.415978\n",
       "min     6.100000e+01       1.020000       0.020000       0.000000\n",
       "25%     2.480000e+02       4.130000       0.070000       0.000000\n",
       "50%     3.900000e+02       6.500000       0.110000       0.000000\n",
       "75%     6.660000e+02      11.100000       0.180000       0.010000\n",
       "max     1.632981e+07  272163.470000    4536.060000     189.000000"
      ]
     },
     "execution_count": 30,
     "metadata": {},
     "output_type": "execute_result"
    }
   ],
   "source": [
    "df_bike_duration = pd.DataFrame()\n",
    "df_bike_duration['trip_duration'] = df_bike['trip_duration']\n",
    "df_bike_duration['trip_minutes'] = round(df_bike_duration['trip_duration'] / 60, 2)\n",
    "df_bike_duration['trip_hours'] = round(df_bike_duration['trip_duration'] / (60**2), 2)\n",
    "df_bike_duration['trip_days'] = round(df_bike_duration['trip_hours'] / 24, 2)\n",
    "\n",
    "df_bike_duration.describe()"
   ]
  },
  {
   "cell_type": "markdown",
   "metadata": {},
   "source": [
    "Notice that the minimum `trip_duration` was 61 seconds, while the maximum was 189 days.\n",
    "\n",
    "The data dictionary for Citi Bike data mentions that trips under 60 seconds were assumed to be false starts/stops and were pruned from the datasets. It also states that, according to Citi Bike's usages policy, the maximum `trip_duration` is 24 hours (86400 seconds).\n",
    "\n",
    "Regardless, we won't delete longer trips since it is possible these correspond to bike docking ussies or users breaking the rules, we would simply add a flag so the analytics team can filter these out if desired."
   ]
  },
  {
   "cell_type": "code",
   "execution_count": 32,
   "metadata": {},
   "outputs": [],
   "source": [
    "df_bike['valid_duration'] = df_bike['trip_duration'].apply(lambda x: 0 if x > 86400 else 1).astype(bool)"
   ]
  },
  {
   "cell_type": "markdown",
   "metadata": {},
   "source": [
    "Given we dropped some data during this process, we will reset our index and `id` column for the sake of consistency."
   ]
  },
  {
   "cell_type": "code",
   "execution_count": 33,
   "metadata": {},
   "outputs": [
    {
     "data": {
      "text/html": [
       "<div>\n",
       "<style scoped>\n",
       "    .dataframe tbody tr th:only-of-type {\n",
       "        vertical-align: middle;\n",
       "    }\n",
       "\n",
       "    .dataframe tbody tr th {\n",
       "        vertical-align: top;\n",
       "    }\n",
       "\n",
       "    .dataframe thead th {\n",
       "        text-align: right;\n",
       "    }\n",
       "</style>\n",
       "<table border=\"1\" class=\"dataframe\">\n",
       "  <thead>\n",
       "    <tr style=\"text-align: right;\">\n",
       "      <th></th>\n",
       "      <th>trip_duration</th>\n",
       "      <th>start_time</th>\n",
       "      <th>stop_time</th>\n",
       "      <th>start_station_id</th>\n",
       "      <th>start_station_name</th>\n",
       "      <th>start_station_latitude</th>\n",
       "      <th>start_station_longitude</th>\n",
       "      <th>end_station_id</th>\n",
       "      <th>end_station_name</th>\n",
       "      <th>end_station_latitude</th>\n",
       "      <th>end_station_longitude</th>\n",
       "      <th>bike_id</th>\n",
       "      <th>user_type</th>\n",
       "      <th>birth_year</th>\n",
       "      <th>gender</th>\n",
       "      <th>id</th>\n",
       "      <th>age</th>\n",
       "      <th>valid_duration</th>\n",
       "    </tr>\n",
       "  </thead>\n",
       "  <tbody>\n",
       "    <tr>\n",
       "      <th>247578</th>\n",
       "      <td>557</td>\n",
       "      <td>2016-12-31 23:10:16</td>\n",
       "      <td>2016-12-31 23:19:33</td>\n",
       "      <td>3214</td>\n",
       "      <td>Essex Light Rail</td>\n",
       "      <td>40.712774</td>\n",
       "      <td>-74.036486</td>\n",
       "      <td>3203</td>\n",
       "      <td>Hamilton Park</td>\n",
       "      <td>40.727596</td>\n",
       "      <td>-74.044247</td>\n",
       "      <td>24465</td>\n",
       "      <td>Subscriber</td>\n",
       "      <td>1981.0</td>\n",
       "      <td>2</td>\n",
       "      <td>247578</td>\n",
       "      <td>35.0</td>\n",
       "      <td>True</td>\n",
       "    </tr>\n",
       "    <tr>\n",
       "      <th>247579</th>\n",
       "      <td>2749</td>\n",
       "      <td>2016-12-31 23:29:39</td>\n",
       "      <td>2017-01-01 00:15:29</td>\n",
       "      <td>3183</td>\n",
       "      <td>Exchange Place</td>\n",
       "      <td>40.716247</td>\n",
       "      <td>-74.033459</td>\n",
       "      <td>3183</td>\n",
       "      <td>Exchange Place</td>\n",
       "      <td>40.716247</td>\n",
       "      <td>-74.033459</td>\n",
       "      <td>24389</td>\n",
       "      <td>Customer</td>\n",
       "      <td>NaN</td>\n",
       "      <td>0</td>\n",
       "      <td>247579</td>\n",
       "      <td>NaN</td>\n",
       "      <td>True</td>\n",
       "    </tr>\n",
       "    <tr>\n",
       "      <th>247580</th>\n",
       "      <td>173</td>\n",
       "      <td>2016-12-31 23:44:37</td>\n",
       "      <td>2016-12-31 23:47:31</td>\n",
       "      <td>3186</td>\n",
       "      <td>Grove St PATH</td>\n",
       "      <td>40.719586</td>\n",
       "      <td>-74.043117</td>\n",
       "      <td>3270</td>\n",
       "      <td>Jersey &amp; 6th St</td>\n",
       "      <td>40.725289</td>\n",
       "      <td>-74.045572</td>\n",
       "      <td>24641</td>\n",
       "      <td>Subscriber</td>\n",
       "      <td>1978.0</td>\n",
       "      <td>1</td>\n",
       "      <td>247580</td>\n",
       "      <td>38.0</td>\n",
       "      <td>True</td>\n",
       "    </tr>\n",
       "    <tr>\n",
       "      <th>247581</th>\n",
       "      <td>2424</td>\n",
       "      <td>2016-12-31 23:44:50</td>\n",
       "      <td>2017-01-01 00:25:14</td>\n",
       "      <td>3214</td>\n",
       "      <td>Essex Light Rail</td>\n",
       "      <td>40.712774</td>\n",
       "      <td>-74.036486</td>\n",
       "      <td>3214</td>\n",
       "      <td>Essex Light Rail</td>\n",
       "      <td>40.712774</td>\n",
       "      <td>-74.036486</td>\n",
       "      <td>26219</td>\n",
       "      <td>Subscriber</td>\n",
       "      <td>1960.0</td>\n",
       "      <td>2</td>\n",
       "      <td>247581</td>\n",
       "      <td>56.0</td>\n",
       "      <td>True</td>\n",
       "    </tr>\n",
       "    <tr>\n",
       "      <th>247582</th>\n",
       "      <td>2419</td>\n",
       "      <td>2016-12-31 23:44:50</td>\n",
       "      <td>2017-01-01 00:25:10</td>\n",
       "      <td>3214</td>\n",
       "      <td>Essex Light Rail</td>\n",
       "      <td>40.712774</td>\n",
       "      <td>-74.036486</td>\n",
       "      <td>3214</td>\n",
       "      <td>Essex Light Rail</td>\n",
       "      <td>40.712774</td>\n",
       "      <td>-74.036486</td>\n",
       "      <td>24471</td>\n",
       "      <td>Subscriber</td>\n",
       "      <td>1956.0</td>\n",
       "      <td>1</td>\n",
       "      <td>247582</td>\n",
       "      <td>60.0</td>\n",
       "      <td>True</td>\n",
       "    </tr>\n",
       "  </tbody>\n",
       "</table>\n",
       "</div>"
      ],
      "text/plain": [
       "        trip_duration          start_time           stop_time  \\\n",
       "247578            557 2016-12-31 23:10:16 2016-12-31 23:19:33   \n",
       "247579           2749 2016-12-31 23:29:39 2017-01-01 00:15:29   \n",
       "247580            173 2016-12-31 23:44:37 2016-12-31 23:47:31   \n",
       "247581           2424 2016-12-31 23:44:50 2017-01-01 00:25:14   \n",
       "247582           2419 2016-12-31 23:44:50 2017-01-01 00:25:10   \n",
       "\n",
       "        start_station_id start_station_name  start_station_latitude  \\\n",
       "247578              3214   Essex Light Rail               40.712774   \n",
       "247579              3183     Exchange Place               40.716247   \n",
       "247580              3186      Grove St PATH               40.719586   \n",
       "247581              3214   Essex Light Rail               40.712774   \n",
       "247582              3214   Essex Light Rail               40.712774   \n",
       "\n",
       "        start_station_longitude  end_station_id  end_station_name  \\\n",
       "247578               -74.036486            3203     Hamilton Park   \n",
       "247579               -74.033459            3183    Exchange Place   \n",
       "247580               -74.043117            3270   Jersey & 6th St   \n",
       "247581               -74.036486            3214  Essex Light Rail   \n",
       "247582               -74.036486            3214  Essex Light Rail   \n",
       "\n",
       "        end_station_latitude  end_station_longitude  bike_id   user_type  \\\n",
       "247578             40.727596             -74.044247    24465  Subscriber   \n",
       "247579             40.716247             -74.033459    24389    Customer   \n",
       "247580             40.725289             -74.045572    24641  Subscriber   \n",
       "247581             40.712774             -74.036486    26219  Subscriber   \n",
       "247582             40.712774             -74.036486    24471  Subscriber   \n",
       "\n",
       "        birth_year  gender      id   age  valid_duration  \n",
       "247578      1981.0       2  247578  35.0            True  \n",
       "247579         NaN       0  247579   NaN            True  \n",
       "247580      1978.0       1  247580  38.0            True  \n",
       "247581      1960.0       2  247581  56.0            True  \n",
       "247582      1956.0       1  247582  60.0            True  "
      ]
     },
     "execution_count": 33,
     "metadata": {},
     "output_type": "execute_result"
    }
   ],
   "source": [
    "df_bike.reset_index(drop=True, inplace=True)\n",
    "df_bike['id'] = df_bike.index\n",
    "df_bike.tail()"
   ]
  }
 ],
 "metadata": {
  "kernelspec": {
   "display_name": "Python 3",
   "language": "python",
   "name": "python3"
  },
  "language_info": {
   "codemirror_mode": {
    "name": "ipython",
    "version": 3
   },
   "file_extension": ".py",
   "mimetype": "text/x-python",
   "name": "python",
   "nbconvert_exporter": "python",
   "pygments_lexer": "ipython3",
   "version": "3.11.4"
  },
  "orig_nbformat": 4
 },
 "nbformat": 4,
 "nbformat_minor": 2
}
