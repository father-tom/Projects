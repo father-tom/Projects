{
 "cells": [
  {
   "cell_type": "code",
   "execution_count": 1,
   "metadata": {},
   "outputs": [],
   "source": [
    "import findspark # necessary to avoid error with Apache Python API\n",
    "from pyspark.sql import SparkSession\n",
    "\n",
    "findspark.init()\n",
    "student_data = [(\"Chris\",1523,0.72,\"CA\"),\n",
    "                (\"Jake\", 1555,0.83,\"NY\"),\n",
    "                (\"Cody\", 1439,0.92,\"CA\"),\n",
    "                (\"Lisa\",1442,0.81,\"FL\"),\n",
    "                (\"Daniel\",1600,0.88,\"TX\"),\n",
    "                (\"Kelvin\",1382,0.99,\"FL\"),\n",
    "                (\"Nancy\",1442,0.74,\"TX\"),\n",
    "                (\"Pavel\",1599,0.82,\"NY\"),\n",
    "                (\"Josh\",1482,0.78,\"CA\"),\n",
    "                (\"Cynthia\",1582,0.94,\"CA\")]"
   ]
  },
  {
   "cell_type": "markdown",
   "metadata": {},
   "source": [
    "Creating SparkSession:"
   ]
  },
  {
   "cell_type": "code",
   "execution_count": 2,
   "metadata": {},
   "outputs": [
    {
     "name": "stdout",
     "output_type": "stream",
     "text": [
      "<pyspark.sql.session.SparkSession object at 0x000001B97BE7B950>\n"
     ]
    }
   ],
   "source": [
    "import findspark # necessary to avoid error with Apache Python API\n",
    "findspark.init()\n",
    "\n",
    "spark = SparkSession.builder.getOrCreate()\n",
    "print(spark)"
   ]
  },
  {
   "cell_type": "code",
   "execution_count": 3,
   "metadata": {},
   "outputs": [],
   "source": [
    "student_rdd = spark.sparkContext.parallelize(student_data)"
   ]
  },
  {
   "cell_type": "markdown",
   "metadata": {},
   "source": [
    "Transforming student data"
   ]
  },
  {
   "cell_type": "code",
   "execution_count": 4,
   "metadata": {},
   "outputs": [],
   "source": [
    "rdd_transformation =  student_rdd.map(lambda x: (x[0], x[1], int(x[2]*100), x[3]))"
   ]
  },
  {
   "cell_type": "markdown",
   "metadata": {},
   "source": [
    "Filtering student data with grades > 80."
   ]
  },
  {
   "cell_type": "code",
   "execution_count": 5,
   "metadata": {},
   "outputs": [],
   "source": [
    "rdd_filtered = rdd_transformation.filter(lambda x: x[2] > 80)"
   ]
  },
  {
   "cell_type": "markdown",
   "metadata": {},
   "source": [
    "Using `take(n)` to show first five elements:"
   ]
  },
  {
   "cell_type": "code",
   "execution_count": 6,
   "metadata": {},
   "outputs": [
    {
     "data": {
      "text/plain": [
       "[('Chris', 1523, 72, 'CA'),\n",
       " ('Jake', 1555, 83, 'NY'),\n",
       " ('Cody', 1439, 92, 'CA'),\n",
       " ('Lisa', 1442, 81, 'FL'),\n",
       " ('Daniel', 1600, 88, 'TX')]"
      ]
     },
     "execution_count": 6,
     "metadata": {},
     "output_type": "execute_result"
    }
   ],
   "source": [
    "rdd_transformation.take(5)"
   ]
  },
  {
   "cell_type": "markdown",
   "metadata": {},
   "source": [
    "Calculating average grade"
   ]
  },
  {
   "cell_type": "code",
   "execution_count": 7,
   "metadata": {},
   "outputs": [
    {
     "data": {
      "text/plain": [
       "843"
      ]
     },
     "execution_count": 7,
     "metadata": {},
     "output_type": "execute_result"
    }
   ],
   "source": [
    "sum_gpa = rdd_transformation.map(lambda x: x[2]).reduce(lambda a,b: a+b)\n",
    "sum_gpa"
   ]
  },
  {
   "cell_type": "code",
   "execution_count": 8,
   "metadata": {},
   "outputs": [
    {
     "data": {
      "text/plain": [
       "84.3"
      ]
     },
     "execution_count": 8,
     "metadata": {},
     "output_type": "execute_result"
    }
   ],
   "source": [
    "avg_grade = sum_gpa / rdd_transformation.count()\n",
    "avg_grade"
   ]
  },
  {
   "cell_type": "markdown",
   "metadata": {},
   "source": [
    "We can only apply operations that are commutative and associative:"
   ]
  },
  {
   "cell_type": "code",
   "execution_count": 11,
   "metadata": {},
   "outputs": [
    {
     "name": "stdout",
     "output_type": "stream",
     "text": [
      "partition:  [[('Chris', 1523, 72, 'CA'), ('Jake', 1555, 83, 'NY'), ('Cody', 1439, 92, 'CA'), ('Lisa', 1442, 81, 'FL'), ('Daniel', 1600, 88, 'TX'), ('Kelvin', 1382, 99, 'FL'), ('Nancy', 1442, 74, 'TX'), ('Pavel', 1599, 82, 'NY'), ('Josh', 1482, 78, 'CA'), ('Cynthia', 1582, 94, 'CA')]]\n",
      "addition:  843\n",
      "partition:  [[('Chris', 1523, 72, 'CA'), ('Jake', 1555, 83, 'NY'), ('Cody', 1439, 92, 'CA'), ('Lisa', 1442, 81, 'FL'), ('Daniel', 1600, 88, 'TX')], [('Kelvin', 1382, 99, 'FL'), ('Nancy', 1442, 74, 'TX'), ('Pavel', 1599, 82, 'NY'), ('Josh', 1482, 78, 'CA'), ('Cynthia', 1582, 94, 'CA')]]\n",
      "addition:  843\n",
      "partition:  [[('Chris', 1523, 72, 'CA'), ('Jake', 1555, 83, 'NY'), ('Cody', 1439, 92, 'CA')], [('Lisa', 1442, 81, 'FL'), ('Daniel', 1600, 88, 'TX'), ('Kelvin', 1382, 99, 'FL')], [('Nancy', 1442, 74, 'TX'), ('Pavel', 1599, 82, 'NY'), ('Josh', 1482, 78, 'CA'), ('Cynthia', 1582, 94, 'CA')]]\n",
      "addition:  843\n",
      "partition:  [[('Chris', 1523, 72, 'CA'), ('Jake', 1555, 83, 'NY')], [('Cody', 1439, 92, 'CA'), ('Lisa', 1442, 81, 'FL')], [('Daniel', 1600, 88, 'TX'), ('Kelvin', 1382, 99, 'FL')], [('Nancy', 1442, 74, 'TX'), ('Pavel', 1599, 82, 'NY'), ('Josh', 1482, 78, 'CA'), ('Cynthia', 1582, 94, 'CA')]]\n",
      "addition:  843\n"
     ]
    }
   ],
   "source": [
    "for i in range(1,5):\n",
    "    student_partitions = spark.sparkContext.parallelize(student_data, i)\n",
    "    student_partitions = student_partitions.map(lambda x: (x[0], x[1], int(x[2]*100), x[3]))\n",
    "    print('partition: ', student_partitions.glom().collect())\n",
    "    print('addition: ', student_partitions.map(lambda x: x[2]).reduce(lambda a,b: a+b))"
   ]
  },
  {
   "cell_type": "markdown",
   "metadata": {},
   "source": [
    "Sharing variables with broadcast:"
   ]
  },
  {
   "cell_type": "code",
   "execution_count": 12,
   "metadata": {},
   "outputs": [
    {
     "data": {
      "text/plain": [
       "pyspark.broadcast.Broadcast"
      ]
     },
     "execution_count": 12,
     "metadata": {},
     "output_type": "execute_result"
    }
   ],
   "source": [
    "states = {'NY':'New York', 'CA':'California', 'TX':'Texas', 'FL':'Florida'}\n",
    "broadcastStates = spark.sparkContext.broadcast(states)\n",
    "type(broadcastStates)"
   ]
  },
  {
   "cell_type": "code",
   "execution_count": 15,
   "metadata": {},
   "outputs": [
    {
     "data": {
      "text/plain": [
       "[('Chris', 1523, 72, 'California'),\n",
       " ('Jake', 1555, 83, 'New York'),\n",
       " ('Cody', 1439, 92, 'California'),\n",
       " ('Lisa', 1442, 81, 'Florida'),\n",
       " ('Daniel', 1600, 88, 'Texas'),\n",
       " ('Kelvin', 1382, 99, 'Florida'),\n",
       " ('Nancy', 1442, 74, 'Texas'),\n",
       " ('Pavel', 1599, 82, 'New York'),\n",
       " ('Josh', 1482, 78, 'California'),\n",
       " ('Cynthia', 1582, 94, 'California')]"
      ]
     },
     "execution_count": 15,
     "metadata": {},
     "output_type": "execute_result"
    }
   ],
   "source": [
    "rdd_broadcast = rdd_transformation.map(lambda x: (x[0], x[1], x[2], broadcastStates.value[x[3]]))\n",
    "rdd_broadcast.collect()"
   ]
  },
  {
   "cell_type": "markdown",
   "metadata": {},
   "source": [
    "Using accumulators."
   ]
  },
  {
   "cell_type": "code",
   "execution_count": 16,
   "metadata": {},
   "outputs": [
    {
     "data": {
      "text/plain": [
       "pyspark.accumulators.Accumulator"
      ]
     },
     "execution_count": 16,
     "metadata": {},
     "output_type": "execute_result"
    }
   ],
   "source": [
    "sat_1500 = spark.sparkContext.accumulator(0)\n",
    "type(sat_1500)"
   ]
  },
  {
   "cell_type": "code",
   "execution_count": 17,
   "metadata": {},
   "outputs": [
    {
     "name": "stdout",
     "output_type": "stream",
     "text": [
      "<function count_high_sat_score at 0x000001B97BECF600>\n"
     ]
    }
   ],
   "source": [
    "def count_high_sat_score(x):\n",
    "    if x[1] > 1500: sat_1500.add(1)\n",
    "print(count_high_sat_score)"
   ]
  },
  {
   "cell_type": "code",
   "execution_count": 18,
   "metadata": {},
   "outputs": [
    {
     "name": "stdout",
     "output_type": "stream",
     "text": [
      "5\n"
     ]
    }
   ],
   "source": [
    "rdd_broadcast.foreach(lambda x: count_high_sat_score(x))\n",
    "print(sat_1500)"
   ]
  }
 ],
 "metadata": {
  "kernelspec": {
   "display_name": "Python 3",
   "language": "python",
   "name": "python3"
  },
  "language_info": {
   "codemirror_mode": {
    "name": "ipython",
    "version": 3
   },
   "file_extension": ".py",
   "mimetype": "text/x-python",
   "name": "python",
   "nbconvert_exporter": "python",
   "pygments_lexer": "ipython3",
   "version": "3.11.4"
  },
  "orig_nbformat": 4
 },
 "nbformat": 4,
 "nbformat_minor": 2
}
