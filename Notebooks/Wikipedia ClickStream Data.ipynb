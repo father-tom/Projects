{
 "cells": [
  {
   "cell_type": "code",
   "execution_count": 1,
   "metadata": {},
   "outputs": [
    {
     "name": "stderr",
     "output_type": "stream",
     "text": [
      "your 131072x1 screen size is bogus. expect trouble\n",
      "23/08/13 00:18:57 WARN Utils: Your hostname, DESKTOP-1UBRHFB resolves to a loopback address: 127.0.1.1; using 172.22.204.54 instead (on interface eth0)\n",
      "23/08/13 00:18:57 WARN Utils: Set SPARK_LOCAL_IP if you need to bind to another address\n",
      "Setting default log level to \"WARN\".\n",
      "To adjust logging level use sc.setLogLevel(newLevel). For SparkR, use setLogLevel(newLevel).\n",
      "23/08/13 00:18:59 WARN NativeCodeLoader: Unable to load native-hadoop library for your platform... using builtin-java classes where applicable\n"
     ]
    }
   ],
   "source": [
    "from pyspark.sql import SparkSession\n",
    "\n",
    "spark = SparkSession\\\n",
    "    .builder\\\n",
    "    .getOrCreate()"
   ]
  },
  {
   "cell_type": "markdown",
   "metadata": {},
   "source": [
    "RDD from sample list"
   ]
  },
  {
   "cell_type": "code",
   "execution_count": 2,
   "metadata": {},
   "outputs": [],
   "source": [
    "sample_clickstream_counts = [\n",
    "    [\"other-search\", \"Hanging_Gardens_of_Babylon\", \"external\", 47000],\n",
    "    [\"other-empty\", \"Hanging_Gardens_of_Babylon\", \"external\", 34600],\n",
    "    [\"Wonders_of_the_World\", \"Hanging_Gardens_of_Babylon\", \"link\", 14000],\n",
    "    [\"Babylon\", \"Hanging_Gardens_of_Babylon\", \"link\", 2500]\n",
    "]\n",
    "\n",
    "clickstream_counts_rdd = spark.sparkContext.parallelize(sample_clickstream_counts)"
   ]
  },
  {
   "cell_type": "markdown",
   "metadata": {},
   "source": [
    "Creating a DataFrame"
   ]
  },
  {
   "cell_type": "code",
   "execution_count": 3,
   "metadata": {},
   "outputs": [
    {
     "name": "stderr",
     "output_type": "stream",
     "text": [
      "                                                                                \r"
     ]
    },
    {
     "name": "stdout",
     "output_type": "stream",
     "text": [
      "+--------------------+--------------------------+-------------+----------+\n",
      "|source_page         |target_page               |link_category|link_count|\n",
      "+--------------------+--------------------------+-------------+----------+\n",
      "|other-search        |Hanging_Gardens_of_Babylon|external     |47000     |\n",
      "|other-empty         |Hanging_Gardens_of_Babylon|external     |34600     |\n",
      "|Wonders_of_the_World|Hanging_Gardens_of_Babylon|link         |14000     |\n",
      "|Babylon             |Hanging_Gardens_of_Babylon|link         |2500      |\n",
      "+--------------------+--------------------------+-------------+----------+\n",
      "\n"
     ]
    }
   ],
   "source": [
    "clickstream_sample_df = clickstream_counts_rdd\\\n",
    "    .toDF(['source_page', 'target_page', 'link_category', 'link_count'])\n",
    "    \n",
    "clickstream_sample_df.show(5, truncate=False)"
   ]
  },
  {
   "cell_type": "markdown",
   "metadata": {},
   "source": [
    "Read csv as a new DataFrame"
   ]
  },
  {
   "cell_type": "code",
   "execution_count": 4,
   "metadata": {},
   "outputs": [
    {
     "name": "stdout",
     "output_type": "stream",
     "text": [
      "+-------------------+--------------+-------------+-------------+-----------+\n",
      "|referrer           |resource      |link_category|language_code|click_count|\n",
      "+-------------------+--------------+-------------+-------------+-----------+\n",
      "|Daniel_Day-Lewis   |Phantom_Thread|link         |en           |43190      |\n",
      "|other-internal     |Phantom_Thread|external     |en           |21683      |\n",
      "|other-empty        |Phantom_Thread|external     |en           |169532     |\n",
      "|90th_Academy_Awards|Phantom_Thread|link         |en           |40449      |\n",
      "|other-search       |Phantom_Thread|external     |en           |536940     |\n",
      "+-------------------+--------------+-------------+-------------+-----------+\n",
      "only showing top 5 rows\n",
      "\n"
     ]
    }
   ],
   "source": [
    "clickstream = spark.read\\\n",
    "    .option('header', True)\\\n",
    "    .option('delimiter', '\\t')\\\n",
    "    .option('inferSchema', True)\\\n",
    "    .csv('./datafiles/wikipedia_clickstream/')\n",
    "    \n",
    "clickstream.show(5, truncate=False)"
   ]
  },
  {
   "cell_type": "markdown",
   "metadata": {},
   "source": [
    "``.printSchema()``"
   ]
  },
  {
   "cell_type": "code",
   "execution_count": 5,
   "metadata": {},
   "outputs": [
    {
     "name": "stdout",
     "output_type": "stream",
     "text": [
      "root\n",
      " |-- referrer: string (nullable = true)\n",
      " |-- resource: string (nullable = true)\n",
      " |-- link_category: string (nullable = true)\n",
      " |-- language_code: string (nullable = true)\n",
      " |-- click_count: integer (nullable = true)\n",
      "\n"
     ]
    }
   ],
   "source": [
    "clickstream.printSchema()"
   ]
  },
  {
   "cell_type": "markdown",
   "metadata": {},
   "source": [
    "using `drop()`"
   ]
  },
  {
   "cell_type": "code",
   "execution_count": 6,
   "metadata": {},
   "outputs": [
    {
     "name": "stdout",
     "output_type": "stream",
     "text": [
      "+-------------------+--------------+-------------+-----------+\n",
      "|referrer           |resource      |link_category|click_count|\n",
      "+-------------------+--------------+-------------+-----------+\n",
      "|Daniel_Day-Lewis   |Phantom_Thread|link         |43190      |\n",
      "|other-internal     |Phantom_Thread|external     |21683      |\n",
      "|other-empty        |Phantom_Thread|external     |169532     |\n",
      "|90th_Academy_Awards|Phantom_Thread|link         |40449      |\n",
      "|other-search       |Phantom_Thread|external     |536940     |\n",
      "+-------------------+--------------+-------------+-----------+\n",
      "only showing top 5 rows\n",
      "\n",
      "root\n",
      " |-- referrer: string (nullable = true)\n",
      " |-- resource: string (nullable = true)\n",
      " |-- link_category: string (nullable = true)\n",
      " |-- click_count: integer (nullable = true)\n",
      "\n"
     ]
    }
   ],
   "source": [
    "clickstream = clickstream.drop('language_code')\n",
    "\n",
    "clickstream.show(5, truncate=False)\n",
    "clickstream.printSchema()"
   ]
  },
  {
   "cell_type": "markdown",
   "metadata": {},
   "source": [
    "Renaming columns"
   ]
  },
  {
   "cell_type": "code",
   "execution_count": 7,
   "metadata": {},
   "outputs": [
    {
     "name": "stdout",
     "output_type": "stream",
     "text": [
      "+-------------------+--------------+-------------+-----------+\n",
      "|source_page        |target_page   |link_category|click_count|\n",
      "+-------------------+--------------+-------------+-----------+\n",
      "|Daniel_Day-Lewis   |Phantom_Thread|link         |43190      |\n",
      "|other-internal     |Phantom_Thread|external     |21683      |\n",
      "|other-empty        |Phantom_Thread|external     |169532     |\n",
      "|90th_Academy_Awards|Phantom_Thread|link         |40449      |\n",
      "|other-search       |Phantom_Thread|external     |536940     |\n",
      "+-------------------+--------------+-------------+-----------+\n",
      "only showing top 5 rows\n",
      "\n",
      "root\n",
      " |-- source_page: string (nullable = true)\n",
      " |-- target_page: string (nullable = true)\n",
      " |-- link_category: string (nullable = true)\n",
      " |-- click_count: integer (nullable = true)\n",
      "\n"
     ]
    }
   ],
   "source": [
    "clickstream = clickstream\\\n",
    "    .withColumnRenamed('referrer', 'source_page')\\\n",
    "    .withColumnRenamed('resource', 'target_page')\n",
    "    \n",
    "clickstream.show(5, truncate=False)\n",
    "clickstream.printSchema()"
   ]
  },
  {
   "cell_type": "markdown",
   "metadata": {},
   "source": [
    "Creating temporary view for SQL access"
   ]
  },
  {
   "cell_type": "code",
   "execution_count": 11,
   "metadata": {},
   "outputs": [],
   "source": [
    "clickstream.createOrReplaceTempView('clickstream_view')"
   ]
  },
  {
   "cell_type": "markdown",
   "metadata": {},
   "source": [
    "Filtering rows using query structure"
   ]
  },
  {
   "cell_type": "code",
   "execution_count": 9,
   "metadata": {},
   "outputs": [
    {
     "name": "stdout",
     "output_type": "stream",
     "text": [
      "+----------------------------------+--------------------------+-------------+-----------+\n",
      "|source_page                       |target_page               |link_category|click_count|\n",
      "+----------------------------------+--------------------------+-------------+-----------+\n",
      "|other-search                      |Hanging_Gardens_of_Babylon|external     |47088      |\n",
      "|other-empty                       |Hanging_Gardens_of_Babylon|external     |34619      |\n",
      "|Wonders_of_the_World              |Hanging_Gardens_of_Babylon|link         |14668      |\n",
      "|Seven_Wonders_of_the_Ancient_World|Hanging_Gardens_of_Babylon|link         |12296      |\n",
      "+----------------------------------+--------------------------+-------------+-----------+\n",
      "\n"
     ]
    }
   ],
   "source": [
    "clickstream\\\n",
    "    .filter(clickstream.target_page == 'Hanging_Gardens_of_Babylon')\\\n",
    "    .orderBy('click_count', ascending = False)\\\n",
    "    .show(10, truncate=False)"
   ]
  },
  {
   "cell_type": "markdown",
   "metadata": {},
   "source": [
    "Same filter but using SQL"
   ]
  },
  {
   "cell_type": "code",
   "execution_count": 12,
   "metadata": {},
   "outputs": [
    {
     "name": "stdout",
     "output_type": "stream",
     "text": [
      "+----------------------------------+--------------------------+-------------+-----------+\n",
      "|source_page                       |target_page               |link_category|click_count|\n",
      "+----------------------------------+--------------------------+-------------+-----------+\n",
      "|other-search                      |Hanging_Gardens_of_Babylon|external     |47088      |\n",
      "|other-empty                       |Hanging_Gardens_of_Babylon|external     |34619      |\n",
      "|Wonders_of_the_World              |Hanging_Gardens_of_Babylon|link         |14668      |\n",
      "|Seven_Wonders_of_the_Ancient_World|Hanging_Gardens_of_Babylon|link         |12296      |\n",
      "+----------------------------------+--------------------------+-------------+-----------+\n",
      "\n"
     ]
    }
   ],
   "source": [
    "spark.sql(\n",
    "    \"\"\"\n",
    "    SELECT *\n",
    "    FROM clickstream_view\n",
    "    WHERE target_page = 'Hanging_Gardens_of_Babylon'\n",
    "    ORDER BY click_count DESC;\n",
    "    \"\"\"\n",
    ").show(10, truncate=False)"
   ]
  },
  {
   "cell_type": "markdown",
   "metadata": {},
   "source": [
    "Sum of `click_counts` grouped by `link_category` using PySpark methods"
   ]
  },
  {
   "cell_type": "code",
   "execution_count": 13,
   "metadata": {},
   "outputs": [
    {
     "name": "stdout",
     "output_type": "stream",
     "text": [
      "+-------------+----------------+\n",
      "|link_category|sum(click_count)|\n",
      "+-------------+----------------+\n",
      "|link         |97805811        |\n",
      "|other        |9338172         |\n",
      "|external     |3248677856      |\n",
      "+-------------+----------------+\n",
      "\n"
     ]
    }
   ],
   "source": [
    "clickstream\\\n",
    "    .groupBy('link_category')\\\n",
    "    .sum()\\\n",
    "    .show(truncate=False)"
   ]
  },
  {
   "cell_type": "markdown",
   "metadata": {},
   "source": [
    "Now using SQL"
   ]
  },
  {
   "cell_type": "code",
   "execution_count": 14,
   "metadata": {},
   "outputs": [
    {
     "name": "stdout",
     "output_type": "stream",
     "text": [
      "+-------------+----------------+\n",
      "|link_category|sum(click_count)|\n",
      "+-------------+----------------+\n",
      "|link         |97805811        |\n",
      "|other        |9338172         |\n",
      "|external     |3248677856      |\n",
      "+-------------+----------------+\n",
      "\n"
     ]
    }
   ],
   "source": [
    "spark.sql(\n",
    "    \"\"\"\n",
    "    SELECT link_category, SUM(click_count)\n",
    "    FROM clickstream_view\n",
    "    GROUP BY link_category;\n",
    "    \"\"\"\n",
    ").show(truncate=False)"
   ]
  },
  {
   "cell_type": "markdown",
   "metadata": {},
   "source": [
    "Creating DataFrame to save on disk"
   ]
  },
  {
   "cell_type": "code",
   "execution_count": 17,
   "metadata": {},
   "outputs": [
    {
     "name": "stdout",
     "output_type": "stream",
     "text": [
      "+----------------------------+----------------------------+-----------+\n",
      "|source_page                 |target_page                 |click_count|\n",
      "+----------------------------+----------------------------+-----------+\n",
      "|Daniel_Day-Lewis            |Phantom_Thread              |43190      |\n",
      "|90th_Academy_Awards         |Phantom_Thread              |40449      |\n",
      "|Shinee                      |Kim_Jong-hyun_(singer)      |24433      |\n",
      "|Agnyaathavaasi              |Anu_Emmanuel                |15020      |\n",
      "|Naa_Peru_Surya              |Anu_Emmanuel                |12361      |\n",
      "|Mariah_Carey                |Nick_Cannon                 |16214      |\n",
      "|Kesha                       |Rainbow_(Kesha_album)       |11448      |\n",
      "|David_Attenborough          |John_Attenborough           |11252      |\n",
      "|Boney_M.                    |Bobby_Farrell               |14095      |\n",
      "|The_End_of_the_F***ing_World|Jessica_Barden              |237279     |\n",
      "|Quentin_Tarantino           |The_Hateful_Eight           |12018      |\n",
      "|Ready_Player_One_(film)     |Olivia_Cooke                |17468      |\n",
      "|Royal_Rumble_(2018)         |Kevin_Owens_and_Sami_Zayn   |11503      |\n",
      "|Macaulay_Culkin             |Brenda_Song                 |20477      |\n",
      "|Altered_Carbon              |Altered_Carbon_(TV_series)  |23962      |\n",
      "|Lil_Pump                    |Smokepurpp                  |36736      |\n",
      "|Fifth_Harmony               |Camila_Cabello              |30959      |\n",
      "|Havana_(Camila_Cabello_song)|Camila_Cabello              |12803      |\n",
      "|Jennifer_Aniston            |John_Aniston                |26498      |\n",
      "|Kingsman:_The_Golden_Circle |Kingsman:_The_Secret_Service|11969      |\n",
      "+----------------------------+----------------------------+-----------+\n",
      "only showing top 20 rows\n",
      "\n"
     ]
    }
   ],
   "source": [
    "internal_clickstream = clickstream\\\n",
    "    .select(['source_page', 'target_page', 'click_count'])\\\n",
    "    .filter(clickstream.link_category == 'link')\n",
    "\n",
    "internal_clickstream.show(truncate=False)"
   ]
  },
  {
   "cell_type": "markdown",
   "metadata": {},
   "source": [
    "Save to directory as csv and parquet files"
   ]
  },
  {
   "cell_type": "code",
   "execution_count": 18,
   "metadata": {},
   "outputs": [],
   "source": [
    "internal_clickstream\\\n",
    "    .write\\\n",
    "    .csv('./datafiles/wikipedia_clickstream/results_csv/', mode='overwrite')"
   ]
  },
  {
   "cell_type": "code",
   "execution_count": 19,
   "metadata": {},
   "outputs": [
    {
     "name": "stderr",
     "output_type": "stream",
     "text": [
      "                                                                                \r"
     ]
    }
   ],
   "source": [
    "internal_clickstream\\\n",
    "    .write\\\n",
    "    .parquet('./datafiles/wikipedia_clickstreams_pq/results_pq/', mode='overwrite')"
   ]
  },
  {
   "cell_type": "markdown",
   "metadata": {},
   "source": [
    "Close `SparkSession`"
   ]
  },
  {
   "cell_type": "code",
   "execution_count": 20,
   "metadata": {},
   "outputs": [],
   "source": [
    "spark.stop()"
   ]
  }
 ],
 "metadata": {
  "kernelspec": {
   "display_name": "Python 3",
   "language": "python",
   "name": "python3"
  },
  "language_info": {
   "codemirror_mode": {
    "name": "ipython",
    "version": 3
   },
   "file_extension": ".py",
   "mimetype": "text/x-python",
   "name": "python",
   "nbconvert_exporter": "python",
   "pygments_lexer": "ipython3",
   "version": "3.11.4"
  },
  "orig_nbformat": 4
 },
 "nbformat": 4,
 "nbformat_minor": 2
}
